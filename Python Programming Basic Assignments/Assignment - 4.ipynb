{
 "cells": [
  {
   "cell_type": "markdown",
   "id": "0bbea1ad",
   "metadata": {},
   "source": [
    "1.Write a Python Program to Find the Factorial of a Number?"
   ]
  },
  {
   "cell_type": "code",
   "execution_count": 1,
   "id": "7a09e840",
   "metadata": {},
   "outputs": [
    {
     "name": "stdout",
     "output_type": "stream",
     "text": [
      "Enter a number to find factorial: 7\n",
      "Factorial of 7 is 5040\n"
     ]
    }
   ],
   "source": [
    "def factorial(n):\n",
    "    if n == 0:\n",
    "        return 1\n",
    "    else:\n",
    "        return n * factorial(n-1)\n",
    "\n",
    "num = int(input('Enter a number to find factorial: '))\n",
    "print('Factorial of {} is {}'.format(num,factorial(num)))"
   ]
  },
  {
   "cell_type": "markdown",
   "id": "170f5202",
   "metadata": {},
   "source": [
    "2.Write a Python Program to Display the multiplication Table?"
   ]
  },
  {
   "cell_type": "code",
   "execution_count": 2,
   "id": "43d416af",
   "metadata": {},
   "outputs": [
    {
     "name": "stdout",
     "output_type": "stream",
     "text": [
      "Enter a number: 13\n",
      "13 * 1 = 13\n",
      "13 * 2 = 26\n",
      "13 * 3 = 39\n",
      "13 * 4 = 52\n",
      "13 * 5 = 65\n",
      "13 * 6 = 78\n",
      "13 * 7 = 91\n",
      "13 * 8 = 104\n",
      "13 * 9 = 117\n",
      "13 * 10 = 130\n"
     ]
    }
   ],
   "source": [
    "def multiplcation_table(number):\n",
    "    for i in range(1,11):\n",
    "        print('{} * {} = {}'.format(number,i,number*i))\n",
    "\n",
    "num = int(input('Enter a number: '))        \n",
    "multiplcation_table(num)"
   ]
  },
  {
   "cell_type": "markdown",
   "id": "1283781b",
   "metadata": {},
   "source": [
    "3.Write a Python Program to Print the Fibonacci sequence?"
   ]
  },
  {
   "cell_type": "code",
   "execution_count": 3,
   "id": "ae07b5da",
   "metadata": {},
   "outputs": [
    {
     "name": "stdout",
     "output_type": "stream",
     "text": [
      "How many terms: 10\n",
      "(0, 0)\n",
      "(1, 1)\n",
      "(2, 1)\n",
      "(3, 2)\n",
      "(4, 3)\n",
      "(5, 5)\n",
      "(6, 8)\n",
      "(7, 13)\n",
      "(8, 21)\n",
      "(9, 34)\n"
     ]
    }
   ],
   "source": [
    "def fibonacci(no_of_terms):\n",
    "    f0, f1 = 0, 1\n",
    "    for i in range(no_of_terms):\n",
    "        yield i,f0\n",
    "        f0,f1 = f1,f0+f1\n",
    "\n",
    "number_of_terms = int(input('How many terms: '))      \n",
    "for i in fibonacci(number_of_terms):\n",
    "    print(i)"
   ]
  },
  {
   "cell_type": "markdown",
   "id": "f856fa39",
   "metadata": {},
   "source": [
    "4.Write a Python Program to Check Armstrong Number?"
   ]
  },
  {
   "cell_type": "code",
   "execution_count": 4,
   "id": "c4b8e205",
   "metadata": {},
   "outputs": [
    {
     "name": "stdout",
     "output_type": "stream",
     "text": [
      "Enter a number: 152\n",
      "152 is not an amstrong number\n"
     ]
    }
   ],
   "source": [
    "def armstrong(n):\n",
    "    m = n\n",
    "    total = 0\n",
    "    while(n > 0):\n",
    "        rev = n % 10\n",
    "        total += rev ** 3\n",
    "        n = int(n / 10)\n",
    "    if m == total:\n",
    "        print('{} is an amstrong number'.format(m))\n",
    "    else:\n",
    "        print('{} is not an amstrong number'.format(m))\n",
    "        \n",
    "n = int(input('Enter a number: '))\n",
    "armstrong(n)\n",
    "        "
   ]
  },
  {
   "cell_type": "markdown",
   "id": "5819d058",
   "metadata": {},
   "source": [
    "5.Write a Python Program to Find Armstrong Number in an Interval?"
   ]
  },
  {
   "cell_type": "code",
   "execution_count": 5,
   "id": "91068bad",
   "metadata": {},
   "outputs": [
    {
     "name": "stdout",
     "output_type": "stream",
     "text": [
      "Enter start interval: 1\n",
      "Enter end interval: 1000\n",
      "List of Amstrong number in range of 1 - 1000\n",
      "1\n",
      "153\n",
      "370\n",
      "371\n",
      "407\n"
     ]
    }
   ],
   "source": [
    "def amstrong_interval(start,end):\n",
    "    for i in range(start,end):\n",
    "        m = i\n",
    "        total = 0\n",
    "        while(m > 0):\n",
    "            rev = m % 10\n",
    "            total += rev ** 3\n",
    "            m = int(m /10)\n",
    "        if i == total:\n",
    "            yield i\n",
    "\n",
    "start = int(input('Enter start interval: '))            \n",
    "end = int(input('Enter end interval: '))\n",
    "print('List of Amstrong number in range of {} - {}'.format(start,end))            \n",
    "for i in amstrong_interval(start,end):\n",
    "    print(i)"
   ]
  },
  {
   "cell_type": "markdown",
   "id": "6a73ba9f",
   "metadata": {},
   "source": [
    "6.Write a Python Program to Find the Sum of Natural Numbers?"
   ]
  },
  {
   "cell_type": "code",
   "execution_count": 6,
   "id": "05504385",
   "metadata": {},
   "outputs": [
    {
     "name": "stdout",
     "output_type": "stream",
     "text": [
      "Enter a number: 20\n",
      "Sum of 20 natural numbers: 210\n"
     ]
    }
   ],
   "source": [
    "def sum_of_natural(n):\n",
    "    total = 0\n",
    "    for i in range(n+1):\n",
    "        total += i\n",
    "    return total\n",
    "\n",
    "n = int(input('Enter a number: '))\n",
    "print('Sum of {} natural numbers: {}'.format(n,sum_of_natural(n)))"
   ]
  }
 ],
 "metadata": {
  "kernelspec": {
   "display_name": "Python 3",
   "language": "python",
   "name": "python3"
  },
  "language_info": {
   "codemirror_mode": {
    "name": "ipython",
    "version": 3
   },
   "file_extension": ".py",
   "mimetype": "text/x-python",
   "name": "python",
   "nbconvert_exporter": "python",
   "pygments_lexer": "ipython3",
   "version": "3.8.8"
  }
 },
 "nbformat": 4,
 "nbformat_minor": 5
}
