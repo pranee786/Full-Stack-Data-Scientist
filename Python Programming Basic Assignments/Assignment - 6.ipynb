{
 "cells": [
  {
   "cell_type": "markdown",
   "id": "007b84da",
   "metadata": {},
   "source": [
    "1. Write a Python Program to Display Fibonacci Sequence Using Recursion?"
   ]
  },
  {
   "cell_type": "code",
   "execution_count": 1,
   "id": "ec59e042",
   "metadata": {},
   "outputs": [
    {
     "name": "stdout",
     "output_type": "stream",
     "text": [
      "Enter number of terms: 10\n",
      "0\n",
      "1\n",
      "1\n",
      "2\n",
      "3\n",
      "5\n",
      "8\n",
      "13\n",
      "21\n",
      "34\n"
     ]
    }
   ],
   "source": [
    "def fibonacci(n):\n",
    "    if n <= 1:\n",
    "        return n\n",
    "    else:\n",
    "        return (fibonacci(n-1) + fibonacci(n-2))\n",
    "    \n",
    "n = int(input('Enter number of terms: '))\n",
    "if n <= 0:\n",
    "    print('Please enter a positive integer')\n",
    "else:\n",
    "    for i in range(n):\n",
    "        print(fibonacci(i))"
   ]
  },
  {
   "cell_type": "markdown",
   "id": "cd67d8cc",
   "metadata": {},
   "source": [
    "2. Write a Python Program to Find Factorial of Number Using Recursion?"
   ]
  },
  {
   "cell_type": "code",
   "execution_count": 2,
   "id": "b206c017",
   "metadata": {},
   "outputs": [
    {
     "name": "stdout",
     "output_type": "stream",
     "text": [
      "Enter a positive integer: 4\n",
      "24\n"
     ]
    }
   ],
   "source": [
    "def factorial(n):\n",
    "    if n == 1:\n",
    "        return n\n",
    "    else:\n",
    "        return n*factorial(n-1)\n",
    "\n",
    "n = int(input('Enter a positive integer: '))\n",
    "print(factorial(n))"
   ]
  },
  {
   "cell_type": "markdown",
   "id": "69e20207",
   "metadata": {},
   "source": [
    "3. Write a Python Program to calculate your Body Mass Index?"
   ]
  },
  {
   "cell_type": "code",
   "execution_count": 3,
   "id": "97dec311",
   "metadata": {},
   "outputs": [
    {
     "name": "stdout",
     "output_type": "stream",
     "text": [
      "Enter your weight: 63.7\n",
      "Enter your height: 5.2\n",
      "2.355769230769231\n"
     ]
    }
   ],
   "source": [
    "def bodymassindex(weight,height):\n",
    "    bmi = (weight) / (height*height)\n",
    "    return bmi\n",
    "\n",
    "weight = float(input('Enter your weight: '))\n",
    "height = float(input('Enter your height: '))\n",
    "print(bodymassindex(weight,height))"
   ]
  },
  {
   "cell_type": "markdown",
   "id": "80aa228c",
   "metadata": {},
   "source": [
    "4. Write a Python Program to calculate the natural logarithm of any number?"
   ]
  },
  {
   "cell_type": "code",
   "execution_count": 4,
   "id": "ea498a5d",
   "metadata": {},
   "outputs": [
    {
     "name": "stdout",
     "output_type": "stream",
     "text": [
      "Enter a number: 15\n",
      "2.70805020110221\n"
     ]
    }
   ],
   "source": [
    "import math\n",
    "def find_log(n):\n",
    "    return math.log(n)\n",
    "\n",
    "n = int(input('Enter a number: '))\n",
    "print(find_log(n))"
   ]
  },
  {
   "cell_type": "markdown",
   "id": "6b54bf05",
   "metadata": {},
   "source": [
    "5. Write a Python Program for cube sum of first n natural numbers?"
   ]
  },
  {
   "cell_type": "code",
   "execution_count": 5,
   "id": "685bf6be",
   "metadata": {},
   "outputs": [
    {
     "name": "stdout",
     "output_type": "stream",
     "text": [
      "Enter a number: 4\n",
      "100\n"
     ]
    }
   ],
   "source": [
    "def cube(n):\n",
    "    if n == 0:\n",
    "        return n\n",
    "    else:\n",
    "        return (n*n*n) + cube(n-1)\n",
    "    \n",
    "n = int(input('Enter a number: '))\n",
    "print(cube(n))"
   ]
  }
 ],
 "metadata": {
  "kernelspec": {
   "display_name": "Python 3",
   "language": "python",
   "name": "python3"
  },
  "language_info": {
   "codemirror_mode": {
    "name": "ipython",
    "version": 3
   },
   "file_extension": ".py",
   "mimetype": "text/x-python",
   "name": "python",
   "nbconvert_exporter": "python",
   "pygments_lexer": "ipython3",
   "version": "3.8.8"
  }
 },
 "nbformat": 4,
 "nbformat_minor": 5
}
