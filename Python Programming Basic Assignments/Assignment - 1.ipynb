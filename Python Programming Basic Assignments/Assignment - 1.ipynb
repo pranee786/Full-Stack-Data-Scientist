{
 "cells": [
  {
   "cell_type": "markdown",
   "id": "afdc1ed0",
   "metadata": {},
   "source": [
    "1. Write a Python program to print \"Hello Python\"?"
   ]
  },
  {
   "cell_type": "code",
   "execution_count": 1,
   "id": "81644ce1",
   "metadata": {},
   "outputs": [
    {
     "name": "stdout",
     "output_type": "stream",
     "text": [
      "Hello Python\n"
     ]
    }
   ],
   "source": [
    "print(\"Hello Python\")"
   ]
  },
  {
   "cell_type": "markdown",
   "id": "ab08a480",
   "metadata": {},
   "source": [
    "2. Write a Python program to do arithmetical operations addition and division.?"
   ]
  },
  {
   "cell_type": "code",
   "execution_count": 2,
   "id": "0801ea49",
   "metadata": {},
   "outputs": [
    {
     "name": "stdout",
     "output_type": "stream",
     "text": [
      "Addition of two numbers, 10 + 5 = 15\n",
      "Division of two numbers, 10 / 5 = 2.0\n"
     ]
    }
   ],
   "source": [
    "a = 10\n",
    "b = 5\n",
    "print(\"Addition of two numbers, {} + {} = {}\".format(a,b,a+b))\n",
    "print(\"Division of two numbers, {} / {} = {}\".format(a,b,a/b))"
   ]
  },
  {
   "cell_type": "markdown",
   "id": "b4122f35",
   "metadata": {},
   "source": [
    "3. Write a Python program to find the area of a triangle?"
   ]
  },
  {
   "cell_type": "code",
   "execution_count": 3,
   "id": "7381c74d",
   "metadata": {},
   "outputs": [
    {
     "name": "stdout",
     "output_type": "stream",
     "text": [
      "Enter value for breadth of triangle: 16\n",
      "Enter value for height of trianlge: 7\n",
      "56.0\n"
     ]
    }
   ],
   "source": [
    "def area_of_triangle(breadth,height):\n",
    "    area = (1/2) * breadth * height\n",
    "    return area\n",
    "\n",
    "breadth = int(input('Enter value for breadth of triangle: '))\n",
    "height = int(input('Enter value for height of trianlge: '))\n",
    "area = area_of_triangle(breadth,height)\n",
    "print(area)"
   ]
  },
  {
   "cell_type": "markdown",
   "id": "ad272feb",
   "metadata": {},
   "source": [
    "4. Write a Python program to swap two variables?"
   ]
  },
  {
   "cell_type": "code",
   "execution_count": 4,
   "id": "5dca9064",
   "metadata": {},
   "outputs": [
    {
     "name": "stdout",
     "output_type": "stream",
     "text": [
      "Enter a value for a : 12\n",
      "Enter a value for b: 10\n",
      "Values of a,b before swapping: 12,10\n",
      "Values of a,b after swapping: 10,12\n"
     ]
    }
   ],
   "source": [
    "a = int(input('Enter a value for a : '))\n",
    "b = int(input('Enter a value for b: '))\n",
    "print('Values of a,b before swapping: {},{}'.format(a,b))\n",
    "a,b = b,a\n",
    "print('Values of a,b after swapping: {},{}'.format(a,b))"
   ]
  },
  {
   "cell_type": "markdown",
   "id": "ce7f3c1b",
   "metadata": {},
   "source": [
    "5. Write a Python program to generate a random number?"
   ]
  },
  {
   "cell_type": "code",
   "execution_count": 5,
   "id": "9f78a3ed",
   "metadata": {},
   "outputs": [
    {
     "name": "stdout",
     "output_type": "stream",
     "text": [
      "Random number: 0.9433105940004087\n"
     ]
    }
   ],
   "source": [
    "import random\n",
    "random_number = random.random()\n",
    "print('Random number: {}'.format(random_number))"
   ]
  }
 ],
 "metadata": {
  "kernelspec": {
   "display_name": "Python 3",
   "language": "python",
   "name": "python3"
  },
  "language_info": {
   "codemirror_mode": {
    "name": "ipython",
    "version": 3
   },
   "file_extension": ".py",
   "mimetype": "text/x-python",
   "name": "python",
   "nbconvert_exporter": "python",
   "pygments_lexer": "ipython3",
   "version": "3.8.8"
  }
 },
 "nbformat": 4,
 "nbformat_minor": 5
}
