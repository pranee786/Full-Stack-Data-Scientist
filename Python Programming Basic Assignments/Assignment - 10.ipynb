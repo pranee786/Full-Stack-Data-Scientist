{
 "cells": [
  {
   "cell_type": "markdown",
   "id": "4c36568d",
   "metadata": {},
   "source": [
    "1. Write a Python program to find sum of elements in list?"
   ]
  },
  {
   "cell_type": "code",
   "execution_count": 1,
   "id": "3d8bd0fe",
   "metadata": {},
   "outputs": [
    {
     "name": "stdout",
     "output_type": "stream",
     "text": [
      "55\n"
     ]
    }
   ],
   "source": [
    "l = [1,2,3,4,5,6,7,8,9,10]\n",
    "def list_sum(l):\n",
    "    s = 0\n",
    "    for i in l:\n",
    "        s += i\n",
    "    return s\n",
    "  \n",
    "#print(sum(l))\n",
    "print(list_sum(l))"
   ]
  },
  {
   "cell_type": "markdown",
   "id": "fd5485dc",
   "metadata": {},
   "source": [
    "2. Write a Python program to Multiply all numbers in the list?"
   ]
  },
  {
   "cell_type": "code",
   "execution_count": 2,
   "id": "eab8e15d",
   "metadata": {},
   "outputs": [
    {
     "name": "stdout",
     "output_type": "stream",
     "text": [
      "480.0\n"
     ]
    }
   ],
   "source": [
    "l = [1,2,3,4,5,'3',4.0]\n",
    "def list_mul(l):\n",
    "    s = 1\n",
    "    for i in l:\n",
    "        if type(i) in [int,float]:\n",
    "            s *= i\n",
    "    return s\n",
    "  \n",
    "print(list_mul(l))"
   ]
  },
  {
   "cell_type": "markdown",
   "id": "239e73b4",
   "metadata": {},
   "source": [
    "3. Write a Python program to find smallest number in a list?"
   ]
  },
  {
   "cell_type": "code",
   "execution_count": 3,
   "id": "f008db2d",
   "metadata": {},
   "outputs": [
    {
     "name": "stdout",
     "output_type": "stream",
     "text": [
      "1.0\n"
     ]
    }
   ],
   "source": [
    "l = [1.0,'2',3,'4',5,'6',1,11.0]\n",
    "def list_minimum(l):\n",
    "    list_min = 999\n",
    "    for i in l:\n",
    "        if type(i) in [int,float]:\n",
    "            if i < list_min:\n",
    "                list_min = i\n",
    "    return list_min\n",
    "\n",
    "print(list_minimum(l))\n",
    "            "
   ]
  },
  {
   "cell_type": "markdown",
   "id": "bd195005",
   "metadata": {},
   "source": [
    "4. Write a Python program to find largest number in a list?"
   ]
  },
  {
   "cell_type": "code",
   "execution_count": 4,
   "id": "f6cc1243",
   "metadata": {},
   "outputs": [
    {
     "name": "stdout",
     "output_type": "stream",
     "text": [
      "34\n"
     ]
    }
   ],
   "source": [
    "l = [1.0,'2',34,'4',5,'6',1,11.0]\n",
    "def list_maximum(l):\n",
    "    list_max = 0\n",
    "    for i in l:\n",
    "        if type(i) in [int,float]:\n",
    "            if i > list_max:\n",
    "                list_max = i\n",
    "    return list_max\n",
    "\n",
    "print(list_maximum(l))"
   ]
  },
  {
   "cell_type": "markdown",
   "id": "811adbdf",
   "metadata": {},
   "source": [
    "5. Write a Python program to find second largest number in a list?"
   ]
  },
  {
   "cell_type": "code",
   "execution_count": 5,
   "id": "ac15f0d5",
   "metadata": {},
   "outputs": [
    {
     "name": "stdout",
     "output_type": "stream",
     "text": [
      "43\n"
     ]
    }
   ],
   "source": [
    "def second_largest(l):\n",
    "    l.sort()\n",
    "    return l[-2]\n",
    "\n",
    "l = [13,22,43,12,90,10]\n",
    "print(second_largest(l))"
   ]
  },
  {
   "cell_type": "markdown",
   "id": "2a8215b1",
   "metadata": {},
   "source": [
    "6. Write a Python program to find N largest elements from a list?"
   ]
  },
  {
   "cell_type": "code",
   "execution_count": 6,
   "id": "3c59c230",
   "metadata": {},
   "outputs": [
    {
     "name": "stdout",
     "output_type": "stream",
     "text": [
      "22\n"
     ]
    }
   ],
   "source": [
    "def n_largest(l,n):\n",
    "    l.sort()\n",
    "    return l[-n]\n",
    "\n",
    "l = [13,22,43,12,90,10]\n",
    "print(n_largest(l,3))"
   ]
  },
  {
   "cell_type": "markdown",
   "id": "37cd66a1",
   "metadata": {},
   "source": [
    "7. Write a Python program to print even numbers in a list?"
   ]
  },
  {
   "cell_type": "code",
   "execution_count": 7,
   "id": "f701ee3d",
   "metadata": {},
   "outputs": [
    {
     "name": "stdout",
     "output_type": "stream",
     "text": [
      "[2, 4, 6, 8, 10]\n"
     ]
    }
   ],
   "source": [
    "l = [1,2,3,4,5,6,7,8,9,10]\n",
    "even_list = list(filter(lambda x : x%2==0,l))\n",
    "print(even_list)"
   ]
  },
  {
   "cell_type": "markdown",
   "id": "f5e2441f",
   "metadata": {},
   "source": [
    "8. Write a Python program to print odd numbers in a List?"
   ]
  },
  {
   "cell_type": "code",
   "execution_count": 8,
   "id": "2ca0cf87",
   "metadata": {},
   "outputs": [
    {
     "name": "stdout",
     "output_type": "stream",
     "text": [
      "[1, 3, 5, 7, 9]\n"
     ]
    }
   ],
   "source": [
    "l = [1,2,3,4,5,6,7,8,9,10]\n",
    "odd_list = list(filter(lambda x : x%2,l))\n",
    "print(odd_list)"
   ]
  },
  {
   "cell_type": "markdown",
   "id": "89f2a126",
   "metadata": {},
   "source": [
    "9. Write a Python program to Remove empty List from List?"
   ]
  },
  {
   "cell_type": "code",
   "execution_count": 9,
   "id": "ae09d878",
   "metadata": {},
   "outputs": [
    {
     "name": "stdout",
     "output_type": "stream",
     "text": [
      "[1, 2, 3, [4, 5, 6], 7, 8, [9, 10]]\n"
     ]
    }
   ],
   "source": [
    "l = [1,2,3,[4,5,6],7,[],8,[9,10],[]]\n",
    "def remove_emptylist(l):\n",
    "    for i in l:\n",
    "        if type(i) == list and i == []:\n",
    "            l.remove(i)\n",
    "    return l\n",
    "\n",
    "print(remove_emptylist(l))"
   ]
  },
  {
   "cell_type": "markdown",
   "id": "65ad5606",
   "metadata": {},
   "source": [
    "10. Write a Python program to Cloning or Copying a list?"
   ]
  },
  {
   "cell_type": "code",
   "execution_count": 10,
   "id": "dffc5fa3",
   "metadata": {},
   "outputs": [
    {
     "name": "stdout",
     "output_type": "stream",
     "text": [
      "[1, 2, 3, 4, 5]\n"
     ]
    }
   ],
   "source": [
    "def cloning_list(l):\n",
    "    l_copy = l[:]\n",
    "    return l_copy\n",
    "\n",
    "l = [1,2,3,4,5]\n",
    "print(cloning_list(l))"
   ]
  },
  {
   "cell_type": "markdown",
   "id": "b0947108",
   "metadata": {},
   "source": [
    "11. Write a Python program to Count occurrences of an element in a list?"
   ]
  },
  {
   "cell_type": "code",
   "execution_count": 11,
   "id": "f86e297c",
   "metadata": {},
   "outputs": [
    {
     "name": "stdout",
     "output_type": "stream",
     "text": [
      "4\n"
     ]
    }
   ],
   "source": [
    "def occurrences(l,ele):\n",
    "    count = 0\n",
    "    for i in l:\n",
    "        if i == ele:\n",
    "            count += 1\n",
    "            \n",
    "    return count\n",
    "\n",
    "l = [3,5,6,1,7,3,6,9,10,3,5,3,9,10,11,23]\n",
    "print(occurrences(l,3))\n",
    "#print(l.count(3))"
   ]
  }
 ],
 "metadata": {
  "kernelspec": {
   "display_name": "Python 3",
   "language": "python",
   "name": "python3"
  },
  "language_info": {
   "codemirror_mode": {
    "name": "ipython",
    "version": 3
   },
   "file_extension": ".py",
   "mimetype": "text/x-python",
   "name": "python",
   "nbconvert_exporter": "python",
   "pygments_lexer": "ipython3",
   "version": "3.8.8"
  }
 },
 "nbformat": 4,
 "nbformat_minor": 5
}
