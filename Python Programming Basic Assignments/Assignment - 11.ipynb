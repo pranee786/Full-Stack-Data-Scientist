{
 "cells": [
  {
   "cell_type": "markdown",
   "id": "4cb92669",
   "metadata": {},
   "source": [
    "1. Write a Python program to find words which are greater than given length k?"
   ]
  },
  {
   "cell_type": "code",
   "execution_count": 1,
   "id": "7ecc6065",
   "metadata": {},
   "outputs": [
    {
     "name": "stdout",
     "output_type": "stream",
     "text": [
      "['commonly', 'developing', 'websites', 'software', 'automation', 'analysis', 'visualization']\n"
     ]
    }
   ],
   "source": [
    "def greater(s,k):\n",
    "    l = []\n",
    "    s = s.replace(',','')\n",
    "    s_split = s.split()\n",
    "    for i in s_split:\n",
    "        if len(i) > k:\n",
    "            l.append(i)\n",
    "    return l\n",
    "\n",
    "s = 'Python is commonly used for developing websites and software, task automation, data analysis, and data visualization'\n",
    "print(greater(s,6))"
   ]
  },
  {
   "cell_type": "markdown",
   "id": "d35047d2",
   "metadata": {},
   "source": [
    "2. Write a Python program for removing i-th character from a string?"
   ]
  },
  {
   "cell_type": "code",
   "execution_count": 2,
   "id": "47836807",
   "metadata": {},
   "outputs": [
    {
     "name": "stdout",
     "output_type": "stream",
     "text": [
      "Pyton is commonly used programming language.\n"
     ]
    }
   ],
   "source": [
    "def remove_character(s,index):\n",
    "    if index < len(s):\n",
    "        s = s[:index] + s[index+1:]\n",
    "    return s\n",
    "\n",
    "s = 'Python is commonly used programming language.'\n",
    "print(remove_character(s,3))"
   ]
  },
  {
   "cell_type": "markdown",
   "id": "5da9bf5b",
   "metadata": {},
   "source": [
    "3. Write a Python program to split and join a string?"
   ]
  },
  {
   "cell_type": "code",
   "execution_count": 3,
   "id": "d2be2a37",
   "metadata": {},
   "outputs": [
    {
     "name": "stdout",
     "output_type": "stream",
     "text": [
      "Split of the string is ['Python', 'is', 'commonly', 'used', 'programming', 'language.']\n",
      "Join of the string is Python-is-commonly-used-programming-language.\n"
     ]
    }
   ],
   "source": [
    "def split_join(string):\n",
    "    # Splitting the string using space\n",
    "    l = string.split()\n",
    "    # Joining the string with '-'\n",
    "    s = '-'.join(l)\n",
    "    return l,s\n",
    "\n",
    "string = 'Python is commonly used programming language.'\n",
    "l,s = split_join(string)\n",
    "print('Split of the string is {}'.format(l))\n",
    "print('Join of the string is {}'.format(s))"
   ]
  },
  {
   "cell_type": "markdown",
   "id": "571cd4b2",
   "metadata": {},
   "source": [
    "4. Write a Python to check if a given string is binary string or not?"
   ]
  },
  {
   "cell_type": "code",
   "execution_count": 4,
   "id": "425c5d7e",
   "metadata": {},
   "outputs": [
    {
     "name": "stdout",
     "output_type": "stream",
     "text": [
      "Is string 101101001111000 is binary: True\n",
      "Is string 1011010011d11000 is binary: False\n"
     ]
    }
   ],
   "source": [
    "def check_binary(string):\n",
    "    s = {'0','1'}\n",
    "    p = set(string)\n",
    "    if s == p or p == {'0'} or p == {'1'}:\n",
    "        return True\n",
    "    else:\n",
    "        return False\n",
    "    \n",
    "s = '101101001111000'    \n",
    "print('Is string {} is binary: {}'.format(s,check_binary(s)))\n",
    "s = '1011010011d11000'    \n",
    "print('Is string {} is binary: {}'.format(s,check_binary(s)))"
   ]
  },
  {
   "cell_type": "markdown",
   "id": "2be3ff29",
   "metadata": {},
   "source": [
    "5. Write a Python program to find uncommon words from two Strings?"
   ]
  },
  {
   "cell_type": "code",
   "execution_count": 5,
   "id": "07542473",
   "metadata": {},
   "outputs": [
    {
     "name": "stdout",
     "output_type": "stream",
     "text": [
      "['Python', 'Java']\n"
     ]
    }
   ],
   "source": [
    "def compare(s1,s2):\n",
    "    l = []\n",
    "    for s in s1.split():\n",
    "        if s not in s2:\n",
    "            l.append(s)\n",
    "    for s in s2.split():\n",
    "        if s not in s1:\n",
    "            l.append(s)\n",
    "    return l\n",
    "\n",
    "s1 = 'Python is programming language.'\n",
    "s2 = 'Java is programming language.'\n",
    "print(compare(s1,s2))"
   ]
  },
  {
   "cell_type": "markdown",
   "id": "8b27ca05",
   "metadata": {},
   "source": [
    "6. Write a Python to find all duplicate characters in string?"
   ]
  },
  {
   "cell_type": "code",
   "execution_count": 6,
   "id": "0ecb8549",
   "metadata": {},
   "outputs": [
    {
     "name": "stdout",
     "output_type": "stream",
     "text": [
      "['is', 'programming', 'language.']\n"
     ]
    }
   ],
   "source": [
    "s = 'Python is programming language. Java is programming language.'\n",
    "\n",
    "def find_duplicate(string):\n",
    "    split_string = string.split()\n",
    "    l = []\n",
    "    for s in split_string:\n",
    "        count = split_string.count(s)\n",
    "        if count > 1 and s not in l:\n",
    "            l.append(s)\n",
    "    return l\n",
    "\n",
    "print(find_duplicate(s))"
   ]
  },
  {
   "cell_type": "markdown",
   "id": "2a75bc5d",
   "metadata": {},
   "source": [
    "7. Write a Python Program to check if a string contains any special character?"
   ]
  },
  {
   "cell_type": "code",
   "execution_count": 7,
   "id": "fc95b2e5",
   "metadata": {},
   "outputs": [
    {
     "name": "stdout",
     "output_type": "stream",
     "text": [
      "Special character is present\n",
      "No special character is present\n"
     ]
    }
   ],
   "source": [
    "def check_specialcharacter(s):\n",
    "    flag = 0\n",
    "    for i in s:\n",
    "        if 65 <= ord(i) <= 90 or 97 <= ord(i) <= 122 or 48 <= ord(i) <= 57:\n",
    "            pass\n",
    "        else:\n",
    "            flag = 1\n",
    "    if flag:\n",
    "        print('Special character is present')\n",
    "    else:\n",
    "        print('No special character is present')\n",
    "        \n",
    "s = 'Hello World!'\n",
    "check_specialcharacter(s)\n",
    "s = 'HelloWorld'\n",
    "check_specialcharacter(s)"
   ]
  }
 ],
 "metadata": {
  "kernelspec": {
   "display_name": "Python 3",
   "language": "python",
   "name": "python3"
  },
  "language_info": {
   "codemirror_mode": {
    "name": "ipython",
    "version": 3
   },
   "file_extension": ".py",
   "mimetype": "text/x-python",
   "name": "python",
   "nbconvert_exporter": "python",
   "pygments_lexer": "ipython3",
   "version": "3.8.8"
  }
 },
 "nbformat": 4,
 "nbformat_minor": 5
}
