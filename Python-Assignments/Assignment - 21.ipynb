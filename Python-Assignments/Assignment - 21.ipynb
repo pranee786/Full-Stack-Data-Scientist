{
 "cells": [
  {
   "cell_type": "markdown",
   "id": "d03b9575",
   "metadata": {},
   "source": [
    "1. Add the current date to the text file today.txt as a string."
   ]
  },
  {
   "cell_type": "code",
   "execution_count": 1,
   "id": "610e49fa",
   "metadata": {},
   "outputs": [
    {
     "name": "stdout",
     "output_type": "stream",
     "text": [
      "2022-05-03\n"
     ]
    }
   ],
   "source": [
    "from datetime import date,datetime,timedelta\n",
    "\n",
    "now = date.today()\n",
    "print(now)\n",
    "with open('today.txt','w') as f:\n",
    "    f.write(str(now))"
   ]
  },
  {
   "cell_type": "markdown",
   "id": "ffc0bb35",
   "metadata": {},
   "source": [
    "2. Read the text file today.txt into the string today_string"
   ]
  },
  {
   "cell_type": "code",
   "execution_count": 2,
   "id": "7cb8b91c",
   "metadata": {},
   "outputs": [
    {
     "name": "stdout",
     "output_type": "stream",
     "text": [
      "2022-05-03\n"
     ]
    }
   ],
   "source": [
    "f = open('today.txt','r')\n",
    "today_string = f.read()\n",
    "print(today_string)"
   ]
  },
  {
   "cell_type": "markdown",
   "id": "01d25050",
   "metadata": {},
   "source": [
    "3. Parse the date from today_string."
   ]
  },
  {
   "cell_type": "code",
   "execution_count": 3,
   "id": "5985d0bc",
   "metadata": {},
   "outputs": [
    {
     "name": "stdout",
     "output_type": "stream",
     "text": [
      "2022-05-03 00:00:00\n"
     ]
    }
   ],
   "source": [
    "from datetime import datetime\n",
    "parsed_date = datetime.strptime(today_string,\"%Y-%m-%d\")\n",
    "print(parsed_date)"
   ]
  },
  {
   "cell_type": "markdown",
   "id": "a2037bcb",
   "metadata": {},
   "source": [
    "4. List the files in your current directory"
   ]
  },
  {
   "cell_type": "code",
   "execution_count": 4,
   "id": "54930626",
   "metadata": {},
   "outputs": [
    {
     "name": "stdout",
     "output_type": "stream",
     "text": [
      "Current Working direcotry: F:\\Full Stack Data Scientist Course\\Python\\Assignments\n",
      "List of files: ['.ipynb_checkpoints', 'Assignment - 1.ipynb', 'Assignment - 10.ipynb', 'Assignment - 11.ipynb', 'Assignment - 12.ipynb', 'Assignment - 16.ipynb', 'Assignment - 17.ipynb', 'Assignment - 18.ipynb', 'Assignment - 19.ipynb', 'Assignment - 2.ipynb', 'Assignment - 20.ipynb', 'Assignment - 21.ipynb', 'Assignment - 22.ipynb', 'Assignment - 23.ipynb', 'Assignment - 24.ipynb', 'Assignment - 25.ipynb', 'Assignment - 3.ipynb', 'Assignment - 4.ipynb', 'Assignment - 5.ipynb', 'Assignment - 6.ipynb', 'Assignment - 7.ipynb', 'Assignment - 8.ipynb', 'Assignment - 9.ipynb', 'books.csv', 'books.db', 'test.txt', 'today.txt', 'zoo.py', '__pycache__']\n"
     ]
    }
   ],
   "source": [
    "import os\n",
    "print(\"Current Working direcotry:\",os.getcwd())\n",
    "files = os.listdir(os.getcwd())\n",
    "print(\"List of files:\",files)"
   ]
  },
  {
   "cell_type": "markdown",
   "id": "37287ade",
   "metadata": {},
   "source": [
    "5. Create a list of all of the files in your parent directory (minimum five files should be available)."
   ]
  },
  {
   "cell_type": "code",
   "execution_count": 5,
   "id": "67359596",
   "metadata": {},
   "outputs": [
    {
     "name": "stdout",
     "output_type": "stream",
     "text": [
      "Current Working Directory:  F:\\Full Stack Data Scientist Course\\Python\\Assignments\n",
      "Parent directory:  F:\\Full Stack Data Scientist Course\\Python\n",
      "List of files:  ['.ipynb_checkpoints', '19.3 MongoDB', 'Assignments', 'Bag of Words', 'bank', 'car.data', 'Dec 20, 2021.ipynb', 'Dec 21, 2021.ipynb', 'Dec 23, 2021.ipynb', 'Dec 4, 2021.ipynb', 'Dec 5, 2021.ipynb', 'Feb 13, 2022.ipynb', 'Feb 20, 2022 - Assignment.ipynb', 'Feb 20, 2022.ipynb', 'Feb 26, 2022.ipynb', 'Feb 5, 2022.ipynb', 'Feb 6, 2022 - Assignment.ipynb', 'Feb 6, 2022.ipynb', 'Jan 22 & 23, 2022.ipynb', 'Jan 29 & 30, 2022.ipynb', 'Jan 8, 2022.ipynb', 'Jan 9, 2022.ipynb', 'jan22_2022_assignment.py', 'join.db', 'kivydemo.py', 'Mar 26, 2022.ipynb', 'March 12 & 13, 2022.ipynb', 'March 5, 2022 - Assignment - 1.ipynb', 'March 5, 2022 - Assignment - 2.ipynb', 'person.db', 'Project', 'sqlite_test.db', 'studentdata.txt', 'test.txt']\n"
     ]
    }
   ],
   "source": [
    "current_dir = os.getcwd()\n",
    "print(\"Current Working Directory: \",current_dir)\n",
    "dir_name = os.path.dirname(current_dir)\n",
    "print(\"Parent directory: \",dir_name)\n",
    "files = os.listdir(dir_name)\n",
    "print(\"List of files: \",files)"
   ]
  },
  {
   "cell_type": "markdown",
   "id": "347f26e8",
   "metadata": {},
   "source": [
    "6. Use multiprocessing to create three separate processes. Make each one wait a random number of\n",
    "seconds between one and five, print the current time, and then exit."
   ]
  },
  {
   "cell_type": "code",
   "execution_count": 6,
   "id": "26cf090c",
   "metadata": {},
   "outputs": [],
   "source": [
    "from multiprocessing import Process\n",
    "from datetime import datetime\n",
    "import random\n",
    "import time\n",
    "\n",
    "def process():\n",
    "    time.sleep(random.randint(1,5))\n",
    "    current_time = time.time()\n",
    "    local_time = time.ctime(current_time)\n",
    "    print(local_time)\n",
    "    \n",
    "    \n",
    "if __name__ == '__main__':\n",
    "    p1 = Process(target=process,)\n",
    "    p2 = Process(target=process,)\n",
    "    p3 = Process(target=process,)\n",
    "    p1.start()\n",
    "    p2.start()\n",
    "    p3.start()\n",
    "    p1.join()\n",
    "    p2.join()\n",
    "    p3.join()"
   ]
  },
  {
   "cell_type": "markdown",
   "id": "7941248a",
   "metadata": {},
   "source": [
    "7. Create a date object of your day of birth."
   ]
  },
  {
   "cell_type": "code",
   "execution_count": 7,
   "id": "b203e870",
   "metadata": {},
   "outputs": [
    {
     "name": "stdout",
     "output_type": "stream",
     "text": [
      "30-06-1998\n"
     ]
    }
   ],
   "source": [
    "dob = datetime.strptime(\"1998-06-30\",\"%Y-%m-%d\").strftime(\"%d-%m-%Y\")\n",
    "print(dob)"
   ]
  },
  {
   "cell_type": "markdown",
   "id": "d5b83609",
   "metadata": {},
   "source": [
    "8. What day of the week was your day of birth?"
   ]
  },
  {
   "cell_type": "code",
   "execution_count": 8,
   "id": "6b8c45d1",
   "metadata": {},
   "outputs": [
    {
     "data": {
      "text/plain": [
       "'Tuesday'"
      ]
     },
     "execution_count": 8,
     "metadata": {},
     "output_type": "execute_result"
    }
   ],
   "source": [
    "import calendar\n",
    "\n",
    "def find_week(dob):\n",
    "    born = datetime.strptime(dob, '%d-%m-%Y').weekday()\n",
    "    return (calendar.day_name[born])\n",
    "\n",
    "find_week(dob)"
   ]
  },
  {
   "cell_type": "markdown",
   "id": "f8096cff",
   "metadata": {},
   "source": [
    "9. When will you be (or when were you) 10,000 days old?"
   ]
  },
  {
   "cell_type": "code",
   "execution_count": 9,
   "id": "01fcb3df",
   "metadata": {},
   "outputs": [
    {
     "name": "stdout",
     "output_type": "stream",
     "text": [
      "2025-11-15 00:00:00\n"
     ]
    }
   ],
   "source": [
    "start_date = datetime(year=1998,month=6,day=30)\n",
    "end_date = start_date + timedelta(days=10000)\n",
    "print(end_date)"
   ]
  },
  {
   "cell_type": "code",
   "execution_count": null,
   "id": "cb7b6afa",
   "metadata": {},
   "outputs": [],
   "source": []
  }
 ],
 "metadata": {
  "kernelspec": {
   "display_name": "Python 3",
   "language": "python",
   "name": "python3"
  },
  "language_info": {
   "codemirror_mode": {
    "name": "ipython",
    "version": 3
   },
   "file_extension": ".py",
   "mimetype": "text/x-python",
   "name": "python",
   "nbconvert_exporter": "python",
   "pygments_lexer": "ipython3",
   "version": "3.8.8"
  }
 },
 "nbformat": 4,
 "nbformat_minor": 5
}
