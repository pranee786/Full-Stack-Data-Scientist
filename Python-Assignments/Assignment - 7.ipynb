{
 "cells": [
  {
   "cell_type": "raw",
   "id": "70498ddf",
   "metadata": {},
   "source": [
    "1. What is the name of the feature responsible for generating Regex objects?\n",
    "\n",
    "The re.compile() function generates Regex objects."
   ]
  },
  {
   "cell_type": "raw",
   "id": "89e9ec88",
   "metadata": {},
   "source": [
    "2. Why do raw strings often appear in Regex objects?\n",
    "\n",
    "Raw strings are used so that backslashes do not have to be escaped."
   ]
  },
  {
   "cell_type": "raw",
   "id": "8c019590",
   "metadata": {},
   "source": [
    "3. What is the return value of the search() method?\n",
    "\n",
    "The search() method returns match objects."
   ]
  },
  {
   "cell_type": "raw",
   "id": "32ccb00d",
   "metadata": {},
   "source": [
    "4. From a Match item, how do you get the actual strings that match the pattern?\n",
    "\n",
    "The group() method returns strings of the matched pattern."
   ]
  },
  {
   "cell_type": "raw",
   "id": "327f3ebc",
   "metadata": {},
   "source": [
    "5. In the regex which created from the r'(\\d\\d\\d)-(\\d\\d\\d-\\d\\d\\d\\d)', what does group zero cover? Group 2? Group 1?\n",
    "\n",
    "Group 0 covers the entire match, group 1 covers the first set of parenthesis and group 2 covers the second set of parenthesis."
   ]
  },
  {
   "cell_type": "code",
   "execution_count": 1,
   "id": "447a6466",
   "metadata": {},
   "outputs": [
    {
     "name": "stdout",
     "output_type": "stream",
     "text": [
      "Group 0:  927-899-9678\n",
      "Group 1:  927\n",
      "Group 2:  899-9678\n"
     ]
    }
   ],
   "source": [
    "import re\n",
    "\n",
    "pattern = r'(\\d\\d\\d)-(\\d\\d\\d-\\d\\d\\d\\d)'\n",
    "text = '927-899-9678'\n",
    "\n",
    "p = re.search(pattern,text)\n",
    "print(\"Group 0: \",p.group(0))\n",
    "print(\"Group 1: \",p.group(1))\n",
    "print(\"Group 2: \",p.group(2))"
   ]
  },
  {
   "cell_type": "raw",
   "id": "faa193a1",
   "metadata": {},
   "source": [
    "6. In standard expression syntax, parentheses and intervals have distinct meanings. How can you tell\n",
    "a regex that you want it to fit real parentheses and periods?\n",
    "\n",
    "Parenthesis and periods can be escaped with a backslash: \\.,\\(,and \\)."
   ]
  },
  {
   "cell_type": "raw",
   "id": "534e7b54",
   "metadata": {},
   "source": [
    "7. The findall() method returns a string list or a list of string tuples. What causes it to return one of\n",
    "the two options?\n",
    "\n",
    "If the regex has no groups, a list of strings is returned.\n",
    "If the regex has groups, a list of tuple of strings is returned."
   ]
  },
  {
   "cell_type": "code",
   "execution_count": 2,
   "id": "2616d244",
   "metadata": {},
   "outputs": [
    {
     "name": "stdout",
     "output_type": "stream",
     "text": [
      "List of tuple of strings:  [('891', '881-9045'), ('901', '934-8563')]\n",
      "List of strings:  ['891-881-9045', '901-934-8563']\n"
     ]
    }
   ],
   "source": [
    "text = 'My phone number is 891-881-9045. My Dad\"s phone number is 901-934-8563'\n",
    "pattern = r'(\\d\\d\\d)-(\\d\\d\\d-\\d\\d\\d\\d)'\n",
    "p = re.findall(pattern,text)\n",
    "print(\"List of tuple of strings: \",p)\n",
    "\n",
    "pattern = r'\\d{3}-\\d{3}-\\d{4}'\n",
    "ps = re.findall(pattern,text)\n",
    "print(\"List of strings: \",ps)"
   ]
  },
  {
   "cell_type": "raw",
   "id": "575ea349",
   "metadata": {},
   "source": [
    "8. In standard expressions, what does the | character mean?\n",
    "\n",
    "The '|' character signifies matching \"either, or\" between two groups."
   ]
  },
  {
   "cell_type": "code",
   "execution_count": 3,
   "id": "0edda1e0",
   "metadata": {},
   "outputs": [
    {
     "name": "stdout",
     "output_type": "stream",
     "text": [
      "891-881-9045\n",
      "901 934 8563\n"
     ]
    }
   ],
   "source": [
    "text = 'My phone number is 891-881-9045.'\n",
    "pattern = '\\d{3}(-|\\s){1}\\d{3}(-|\\s){1}\\d{4}'\n",
    "p = re.search(pattern,text)\n",
    "print(p.group(0))\n",
    "text = 'My Dad\"s phone number is 901 934 8563.'\n",
    "ps = re.search(pattern,text)\n",
    "print(ps.group(0))\n"
   ]
  },
  {
   "cell_type": "raw",
   "id": "a35f4a7a",
   "metadata": {},
   "source": [
    "9. In regular expressions, what does the ? character stand for?\n",
    "\n",
    "The ? character stands for match zero or one of the group."
   ]
  },
  {
   "cell_type": "raw",
   "id": "21606b20",
   "metadata": {},
   "source": [
    "10.In regular expressions, what is the difference between the + and * characters?\n",
    "\n",
    "The + character matches one or more.\n",
    "The * character matches zero or more."
   ]
  },
  {
   "cell_type": "raw",
   "id": "000b381f",
   "metadata": {},
   "source": [
    "11. What is the difference between {4} and {4,5} in regular expression?\n",
    "\n",
    "The {4} matches exactly four instances of the group.\n",
    "The {4,5} matches between four and five instances."
   ]
  },
  {
   "cell_type": "raw",
   "id": "eee77bd9",
   "metadata": {},
   "source": [
    "12. What do you mean by the \\d, \\w, and \\s shorthand character classes signify in regular\n",
    "expressions?\n",
    "\n",
    "\\d, \\w and \\s are shorthand characters used in regular expressions.\n",
    "\n",
    "\\d matches a single digit.\n",
    "\\w matches a word.\n",
    "\\s matches a space."
   ]
  },
  {
   "cell_type": "raw",
   "id": "87b30647",
   "metadata": {},
   "source": [
    "13. What do means by \\D, \\W, and \\S shorthand character classes signify in regular expressions?\n",
    "\n",
    "\\D, \\W, \\S are shorthand characters in regular expressions\n",
    "\n",
    "\\D matches any character which is other than digit.\n",
    "\\W matches any character which is other than word.\n",
    "\\S matches any character which is other than space."
   ]
  },
  {
   "cell_type": "raw",
   "id": "ed463074",
   "metadata": {},
   "source": [
    "14. What is the difference between .* and .*?\n",
    "\n",
    "The .* performs a greedy match.\n",
    "The .*? performs a non-greedy match."
   ]
  },
  {
   "cell_type": "raw",
   "id": "d0b0ba1a",
   "metadata": {},
   "source": [
    "15. What is the syntax for matching both numbers and lowercase letters with a character class?\n",
    "\n",
    "Syntax for matching both numbers and lowercase letters is [0-9a-z] or [a-z0-9]"
   ]
  },
  {
   "cell_type": "raw",
   "id": "2748639e",
   "metadata": {},
   "source": [
    "16. What is the procedure for making a normal expression in regax case insensitive?\n",
    "\n",
    "To make regex case insensitive, pass re.IGNORECASE or re.I as an argument to re.findall(),re.search() methods which will make the matching case insensitive"
   ]
  },
  {
   "cell_type": "code",
   "execution_count": 4,
   "id": "7b16e04a",
   "metadata": {},
   "outputs": [
    {
     "name": "stdout",
     "output_type": "stream",
     "text": [
      "['m', 'y', 'n', 'a', 'm', 'e', 'i', 's', 'p', 'r', 'a', 'n', 'e', 'e', 't', 'a']\n",
      "<re.Match object; span=(0, 1), match='m'>\n"
     ]
    }
   ],
   "source": [
    "text = 'my name is praneeta'\n",
    "pattern = '[A-Z]'\n",
    "p = re.findall(pattern,text,re.IGNORECASE)\n",
    "print(p)\n",
    "ps = re.search(pattern,text,re.IGNORECASE)\n",
    "print(ps)\n"
   ]
  },
  {
   "cell_type": "raw",
   "id": "c3935f2d",
   "metadata": {},
   "source": [
    "17. What does the . character normally match? What does it match if re.DOTALL is passed as 2nd\n",
    "argument in re.compile()?\n",
    "\n",
    "The . character normally matches any character except the new line character.\n",
    "\n",
    "If re.DOTALL is passed as 2nd argument in re.compile(), then the dot will also match new line characters."
   ]
  },
  {
   "cell_type": "raw",
   "id": "6180139c",
   "metadata": {},
   "source": [
    "18. If numReg = re.compile(r'\\d+'), what will numReg.sub('X', '11 drummers, 10 pipers, five rings, 4\n",
    "hen') return?\n",
    "\n",
    "The above statement will return 'X drummers, X pipers, five rings, X hen'"
   ]
  },
  {
   "cell_type": "code",
   "execution_count": 5,
   "id": "7d8ebfd5",
   "metadata": {},
   "outputs": [
    {
     "data": {
      "text/plain": [
       "'X drummers, X pipers, five rings, X hen'"
      ]
     },
     "execution_count": 5,
     "metadata": {},
     "output_type": "execute_result"
    }
   ],
   "source": [
    "numReg = re.compile(r'\\d+')\n",
    "numReg.sub('X', '11 drummers, 10 pipers, five rings, 4 hen')"
   ]
  },
  {
   "cell_type": "raw",
   "id": "f72d7274",
   "metadata": {},
   "source": [
    "19. What does passing re.VERBOSE as the 2nd argument to re.compile() allow to do?\n",
    "\n",
    "The re.VERBOSE argument allows you to add the whitespace and comments to the string passed to re.compile()"
   ]
  },
  {
   "cell_type": "code",
   "execution_count": 6,
   "id": "55ef20c4",
   "metadata": {},
   "outputs": [
    {
     "data": {
      "text/plain": [
       "'X drummers, X pipers, five rings, X hen'"
      ]
     },
     "execution_count": 6,
     "metadata": {},
     "output_type": "execute_result"
    }
   ],
   "source": [
    "num = re.compile(r'\\d+',re.VERBOSE=='Numbers are replaced with X')\n",
    "numReg.sub('X', '11 drummers, 10 pipers, five rings, 4 hen')"
   ]
  },
  {
   "cell_type": "raw",
   "id": "47d0ef6e",
   "metadata": {},
   "source": [
    "20. How would you write a regex that match a number with comma for every three digits? It must\n",
    "match the given following:\n",
    "'42'\n",
    "'1,234'\n",
    "'6,368,745'\n",
    "but not the following:\n",
    "'12,34,567' (which has only two digits between the commas)\n",
    "'1234' (which lacks commas)\n",
    "\n",
    "re.compile(r'^\\d{1,3}(,\\d{3}*$') will create a regex which matches a number with comma for every three digits."
   ]
  },
  {
   "cell_type": "raw",
   "id": "390a0ec7",
   "metadata": {},
   "source": [
    "21. How would you write a regex that matches the full name of someone whose last name is\n",
    "Watanabe? You can assume that the first name that comes before it will always be one word that\n",
    "begins with a capital letter. The regex must match the following:\n",
    "'Haruto Watanabe'\n",
    "'Alice Watanabe'\n",
    "'RoboCop Watanabe'\n",
    "but not the following:\n",
    "'haruto Watanabe' (where the first name is not capitalized)\n",
    "'Mr. Watanabe' (where the preceding word has a nonletter character)\n",
    "'Watanabe' (which has no first name)\n",
    "'Haruto watanabe' (where Watanabe is not capitalized)\n",
    "\n",
    "re.compile(r'[A-Z][a-z]*\\sWatanabe')"
   ]
  },
  {
   "cell_type": "code",
   "execution_count": 7,
   "id": "341f76b3",
   "metadata": {},
   "outputs": [
    {
     "name": "stdout",
     "output_type": "stream",
     "text": [
      "['Haruto Watanabe']\n",
      "['Alice Watanabe']\n",
      "['Cop Watanabe']\n",
      "[]\n",
      "[]\n",
      "[]\n",
      "[]\n"
     ]
    }
   ],
   "source": [
    "pattern = r'[A-Z][a-z]*\\sWatanabe'\n",
    "p = re.findall(pattern,'Haruto Watanabe')\n",
    "print(p)\n",
    "p = re.findall(pattern,'Alice Watanabe')\n",
    "print(p)\n",
    "p = re.findall(pattern,'RoboCop Watanabe')\n",
    "print(p)\n",
    "p = re.findall(pattern,'haruto Watanabe')\n",
    "print(p)\n",
    "p = re.findall(pattern,'Mr. Watanabe')\n",
    "print(p)\n",
    "p = re.findall(pattern,'Watanabe')\n",
    "print(p)\n",
    "p = re.findall(pattern,'Haruto watanabe')\n",
    "print(p)"
   ]
  },
  {
   "cell_type": "raw",
   "id": "b5d074d9",
   "metadata": {},
   "source": [
    "22. How would you write a regex that matches a sentence where the first word is either Alice, Bob,\n",
    "or Carol; the second word is either eats, pets, or throws; the third word is apples, cats, or baseballs;\n",
    "and the sentence ends with a period? This regex should be case-insensitive. It must match the\n",
    "following:\n",
    "'Alice eats apples.'\n",
    "'Bob pets cats.'\n",
    "'Carol throws baseballs.'\n",
    "'Alice throws Apples.'\n",
    "'BOB EATS CATS.'\n",
    "but not the following:\n",
    "'RoboCop eats apples.'\n",
    "'ALICE THROWS FOOTBALLS.'\n",
    "'Carol eats 7 cats.'\n",
    "\n",
    "re.compile(r'(Alice|Bob|Carol)\\s(eats|pets|throws)\\s(apples|cats|baseballs\\.',re.IGNORECASE)"
   ]
  }
 ],
 "metadata": {
  "kernelspec": {
   "display_name": "Python 3",
   "language": "python",
   "name": "python3"
  },
  "language_info": {
   "codemirror_mode": {
    "name": "ipython",
    "version": 3
   },
   "file_extension": ".py",
   "mimetype": "text/x-python",
   "name": "python",
   "nbconvert_exporter": "python",
   "pygments_lexer": "ipython3",
   "version": "3.8.8"
  }
 },
 "nbformat": 4,
 "nbformat_minor": 5
}
