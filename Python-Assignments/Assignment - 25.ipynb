{
 "cells": [
  {
   "cell_type": "markdown",
   "id": "21603f29",
   "metadata": {},
   "source": [
    "1) What is the difference between enclosing a list comprehension in square brackets and\n",
    "parentheses?\n",
    "\n",
    "Square brackets are used for lists and parenthesis are used for tuples in list comprehension."
   ]
  },
  {
   "cell_type": "markdown",
   "id": "af35e540",
   "metadata": {},
   "source": [
    "2) What is the relationship between generators and iterators?\n",
    "\n",
    "Generators are mostly used in loops to generate an iterator by returning all the values in the loop withour affecting the iteration of the loop.\n",
    "\n",
    "Iterators are used mostly to iterate or convert other objects to an iterator using iter() function."
   ]
  },
  {
   "cell_type": "markdown",
   "id": "8989b30d",
   "metadata": {},
   "source": [
    "3) What are the signs that a function is a generator function?\n",
    "\n",
    "If a function contains at least one yield statement then it becomes a generator function."
   ]
  },
  {
   "cell_type": "markdown",
   "id": "f11951b7",
   "metadata": {},
   "source": [
    "4) What is the purpose of a yield statement?\n",
    "\n",
    "A yield statement looks much like a return statement, except that instead of stopping execution of the function and returing, yield instead provides a value to the code looping over the generator and pauses execution of the generator function."
   ]
  },
  {
   "cell_type": "markdown",
   "id": "c326c6bf",
   "metadata": {},
   "source": [
    "5) What is the relationship between map calls and list comprehensions? Make a comparison and\n",
    "contrast between the two.\n",
    "\n",
    "List comprehension is more concise and easier to read as compared to map. List comprehension are used when a list of results is required as map only returns a map object and does not return any list."
   ]
  },
  {
   "cell_type": "code",
   "execution_count": 1,
   "id": "8fe40e75",
   "metadata": {},
   "outputs": [
    {
     "name": "stdout",
     "output_type": "stream",
     "text": [
      "[2, 4, 6, 8, 10] <class 'list'>\n",
      "<class 'map'>\n",
      "[2, 4, 6, 8, 10]\n"
     ]
    }
   ],
   "source": [
    "l = [1,2,3,4,5]\n",
    "\n",
    "lc = [2*i for i in l]\n",
    "print(lc,type(lc))\n",
    "\n",
    "m = map(lambda x:2*x,l)\n",
    "print(type(m))\n",
    "print(list(m))"
   ]
  }
 ],
 "metadata": {
  "kernelspec": {
   "display_name": "Python 3",
   "language": "python",
   "name": "python3"
  },
  "language_info": {
   "codemirror_mode": {
    "name": "ipython",
    "version": 3
   },
   "file_extension": ".py",
   "mimetype": "text/x-python",
   "name": "python",
   "nbconvert_exporter": "python",
   "pygments_lexer": "ipython3",
   "version": "3.8.8"
  }
 },
 "nbformat": 4,
 "nbformat_minor": 5
}
