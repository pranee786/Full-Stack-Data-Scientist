{
 "cells": [
  {
   "cell_type": "raw",
   "id": "55c5431b",
   "metadata": {},
   "source": [
    "1. What exactly is []?\n",
    "\n",
    "[] is an empty list."
   ]
  },
  {
   "cell_type": "raw",
   "id": "b39e3175",
   "metadata": {},
   "source": [
    "2. In a list of values stored in a variable called spam, how would you assign the value 'hello' as the\n",
    "third value? (Assume [2, 4, 6, 8, 10] are in spam.)\n",
    "\n",
    "spam[2] = 'hello', will assign the 'hello' to the third value which is in index 2."
   ]
  },
  {
   "cell_type": "code",
   "execution_count": 1,
   "id": "4750fc77",
   "metadata": {},
   "outputs": [
    {
     "data": {
      "text/plain": [
       "[2, 4, 'hello', 8, 10]"
      ]
     },
     "execution_count": 1,
     "metadata": {},
     "output_type": "execute_result"
    }
   ],
   "source": [
    "spam = [2, 4, 6, 8, 10]\n",
    "spam[2] = 'hello'\n",
    "spam"
   ]
  },
  {
   "cell_type": "raw",
   "id": "807f5555",
   "metadata": {},
   "source": [
    "Let's pretend the spam includes the list ['a','b','c','d'] for the next three queries."
   ]
  },
  {
   "cell_type": "code",
   "execution_count": 2,
   "id": "4311ff31",
   "metadata": {},
   "outputs": [],
   "source": [
    "spam = ['a','b','c','d']"
   ]
  },
  {
   "cell_type": "raw",
   "id": "35a940d7",
   "metadata": {},
   "source": [
    "3. What is the value of spam[int(int('3' * 2) / 11)]?\n",
    "\n",
    "The value of spam[int(int('3'*2)/11)] is 'd'.\n",
    "Analysis is: \n",
    "spam[int(int('3'*2)/11)] -> spam[int(int('33')/11)] -> spam[int(33/11)] -> spam[3] = 'd'.\n",
    "Since index starts with '0', index 3 value is 'd'"
   ]
  },
  {
   "cell_type": "code",
   "execution_count": 3,
   "id": "01a3e560",
   "metadata": {},
   "outputs": [
    {
     "data": {
      "text/plain": [
       "'d'"
      ]
     },
     "execution_count": 3,
     "metadata": {},
     "output_type": "execute_result"
    }
   ],
   "source": [
    "spam[int(int('3'*2)/11)]"
   ]
  },
  {
   "cell_type": "raw",
   "id": "c5b0a81c",
   "metadata": {},
   "source": [
    "4. What is the value of spam[-1]?\n",
    "\n",
    "The value is 'd'. The index '-1' is going to return the last element in the list."
   ]
  },
  {
   "cell_type": "code",
   "execution_count": 4,
   "id": "db49022b",
   "metadata": {},
   "outputs": [
    {
     "data": {
      "text/plain": [
       "'d'"
      ]
     },
     "execution_count": 4,
     "metadata": {},
     "output_type": "execute_result"
    }
   ],
   "source": [
    "spam[-1]"
   ]
  },
  {
   "cell_type": "raw",
   "id": "e3d0af4a",
   "metadata": {},
   "source": [
    "5. What is the value of spam[:2]?\n",
    "\n",
    "The value is ['a','b']. The spam[:2] is equals to spam[0:2] so it return the list which contains elements in indexes '0' and '1'. As in slicing it always return the elements only to end_index-1."
   ]
  },
  {
   "cell_type": "code",
   "execution_count": 5,
   "id": "81730c16",
   "metadata": {},
   "outputs": [
    {
     "data": {
      "text/plain": [
       "['a', 'b']"
      ]
     },
     "execution_count": 5,
     "metadata": {},
     "output_type": "execute_result"
    }
   ],
   "source": [
    "spam[:2]"
   ]
  },
  {
   "cell_type": "raw",
   "id": "64e6fa8c",
   "metadata": {},
   "source": [
    "Let's pretend bacon has the list [3.14, 'cat', 11, 'cat', True] for the next three questions."
   ]
  },
  {
   "cell_type": "code",
   "execution_count": 6,
   "id": "e998a971",
   "metadata": {},
   "outputs": [],
   "source": [
    "bacon = [3.14, 'cat', 11, 'cat', True]"
   ]
  },
  {
   "cell_type": "raw",
   "id": "99093e52",
   "metadata": {},
   "source": [
    "6. What is the value of bacon.index('cat')?\n",
    "\n",
    "The index of 'cat' is '1'."
   ]
  },
  {
   "cell_type": "code",
   "execution_count": 7,
   "id": "26bcad5f",
   "metadata": {},
   "outputs": [
    {
     "data": {
      "text/plain": [
       "1"
      ]
     },
     "execution_count": 7,
     "metadata": {},
     "output_type": "execute_result"
    }
   ],
   "source": [
    "bacon.index('cat')"
   ]
  },
  {
   "cell_type": "raw",
   "id": "1df32511",
   "metadata": {},
   "source": [
    "7. How does bacon.append(99) change the look of the list value in bacon?\n",
    "\n",
    "The element '99' is going to added to end of the list. So now the list is going to be [3.14, 'cat', 11, 'cat', True, 99]."
   ]
  },
  {
   "cell_type": "code",
   "execution_count": 8,
   "id": "152d4df2",
   "metadata": {},
   "outputs": [
    {
     "data": {
      "text/plain": [
       "[3.14, 'cat', 11, 'cat', True, 99]"
      ]
     },
     "execution_count": 8,
     "metadata": {},
     "output_type": "execute_result"
    }
   ],
   "source": [
    "bacon.append(99)\n",
    "bacon"
   ]
  },
  {
   "cell_type": "raw",
   "id": "a0e828b2",
   "metadata": {},
   "source": [
    "8. How does bacon.remove('cat') change the look of the list in bacon?\n",
    "\n",
    "The statement will remove the element 'cat' from first index as it is found in index '1'. So now the list is going to [3.14, 11, 'cat', True, 99]"
   ]
  },
  {
   "cell_type": "code",
   "execution_count": 9,
   "id": "d2797c30",
   "metadata": {},
   "outputs": [
    {
     "data": {
      "text/plain": [
       "[3.14, 11, 'cat', True, 99]"
      ]
     },
     "execution_count": 9,
     "metadata": {},
     "output_type": "execute_result"
    }
   ],
   "source": [
    "bacon.remove('cat')\n",
    "bacon"
   ]
  },
  {
   "cell_type": "raw",
   "id": "e9c8c900",
   "metadata": {},
   "source": [
    "9. What are the list concatenation and list replication operators?\n",
    "\n",
    "List concatenation adds two lists to a single list.\n",
    "List replication will replicates all the elements in the list to given number of times.\n",
    "\n",
    "Example:\n",
    "l1 = [1,2,3,4]\n",
    "l2 = [5,6,7,8]\n",
    "l1 + l2 - > [1,2,3,4,5,6,7,8]\n",
    "l1*2 -> [1,2,3,4,1,2,3,4]"
   ]
  },
  {
   "cell_type": "code",
   "execution_count": 10,
   "id": "7a332f6f",
   "metadata": {},
   "outputs": [
    {
     "name": "stdout",
     "output_type": "stream",
     "text": [
      "List Concatenation:[1, 2, 3, 4, 5, 6, 7, 8]\n",
      "List Replication: [1, 2, 3, 4, 1, 2, 3, 4]\n"
     ]
    }
   ],
   "source": [
    "l1 = [1,2,3,4]\n",
    "l2 = [5,6,7,8]\n",
    "print('List Concatenation:' + str(l1 + l2))\n",
    "print('List Replication: ' + str(l1*2))"
   ]
  },
  {
   "cell_type": "raw",
   "id": "841a68ef",
   "metadata": {},
   "source": [
    "10. What is difference between the list methods append() and insert()?\n",
    "\n",
    "The list method append(), will add the element at the end of the list. Whereas the method insert(), will insert the element at given particular index.\n",
    "\n",
    "Example:\n",
    "l1 = [1,2,3,4]\n",
    "l1.append(5) -> [1,2,3,4,5]\n",
    "l1.insert(2,6) -> [1,2,6,3,4,5]\n",
    "\n",
    "In the append() method, there is only argument which is the element. But in the insert() method, there are two arguments. The first argument is index number where to be inserted and second argument is the element."
   ]
  },
  {
   "cell_type": "raw",
   "id": "c58e8640",
   "metadata": {},
   "source": [
    "11. What are the two methods for removing items from a list?\n",
    "\n",
    "remove() and pop() are two methods used for removing the elements from the list.\n",
    "\n",
    "remove() method will remove the element from the list which is given as the argument. If the element is not found in the list, it will lead to ValueError.\n",
    "\n",
    "pop() method will remove the element from the list based on the index number.\n",
    "\n",
    "Example:\n",
    "l1 = [1,2,3,4,5]\n",
    "l1.remove(5) -> [1,2,3,4]\n",
    "l1.pop(2) - > [1,2,4]"
   ]
  },
  {
   "cell_type": "raw",
   "id": "fd24ba1e",
   "metadata": {},
   "source": [
    "12. Describe how list values and string values are identical.\n",
    "\n",
    "Both strings and lists are sequences. Strings are immutable sequences whereas Lists are mutable sequences. Lists can have hetrogenous elements but Strings can have only the characters which are of String Type (which are basically enclosed in single or double quotes). "
   ]
  },
  {
   "cell_type": "raw",
   "id": "69c6b47e",
   "metadata": {},
   "source": [
    "13. What's the difference between tuples and lists?\n",
    "\n",
    "tuples are notated with parenthesis '()' and immutable objects which means we cannot make any changes within tuple once it is created. It does not support item assignment, addition of elements and removal of elements.\n",
    "\n",
    "list are notated with square brackets '[]' and mutable objects which means we can make changes within list even after it is created. It supports items assignment, addition of elements and removal of elements."
   ]
  },
  {
   "cell_type": "raw",
   "id": "f8e3b8f8",
   "metadata": {},
   "source": [
    "14. How do you type a tuple value that only contains the integer 42?\n",
    "\n",
    "If there is single element with in the tuple it should be metioned with a comma ',' to make the variable as tuple else the element will be an integer\n",
    "\n",
    "t = (42,) or t = 42, # Type of t is tuple\n",
    "\n",
    "If t = (42) or t = 42 # Type of t is integer"
   ]
  },
  {
   "cell_type": "code",
   "execution_count": 11,
   "id": "1aaf1ee9",
   "metadata": {},
   "outputs": [
    {
     "name": "stdout",
     "output_type": "stream",
     "text": [
      "<class 'tuple'> <class 'tuple'>\n",
      "<class 'int'> <class 'int'>\n"
     ]
    }
   ],
   "source": [
    "t1 = (42,)\n",
    "t2 = 42,\n",
    "print(type(t1),type(t2))\n",
    "\n",
    "t1 = (42)\n",
    "t2 = 42\n",
    "print(type(t1),type(t2))"
   ]
  },
  {
   "cell_type": "raw",
   "id": "c7bb0c94",
   "metadata": {},
   "source": [
    "15. How do you get a list value's tuple form? How do you get a tuple value's list form?\n",
    "\n",
    "List values can be converted into tuple by typecasting using the 'tuple' class. Similarly, the tuple values can be converted into list by typecasting using 'list' class.\n",
    "\n",
    "Example:\n",
    "l1 = [1,2,3,4,5]\n",
    "t1 = (6,7,8,9,10)\n",
    "list_converted_to_tuple = tuple(l1)\n",
    "tuple_converted_to_list = list(t1)\n",
    "type(list_converted_to_tuple) -> tuple\n",
    "type(tuple_converted_to_list) -> list"
   ]
  },
  {
   "cell_type": "code",
   "execution_count": 12,
   "id": "0b26a208",
   "metadata": {},
   "outputs": [
    {
     "name": "stdout",
     "output_type": "stream",
     "text": [
      "<class 'tuple'>\n",
      "<class 'list'>\n"
     ]
    }
   ],
   "source": [
    "l1 = [1,2,3,4,5]\n",
    "t1 = (6,7,8,9,10)\n",
    "list_converted_to_tuple = tuple(l1)\n",
    "tuple_converted_to_list = list(t1)\n",
    "print(type(list_converted_to_tuple))\n",
    "print(type(tuple_converted_to_list))"
   ]
  },
  {
   "cell_type": "raw",
   "id": "1c3251bd",
   "metadata": {},
   "source": [
    "16. Variables that \"contain\" list values are not necessarily lists themselves. Instead, what do they contain?\n",
    "\n",
    "Variable contains references to the list values but not list values itself."
   ]
  },
  {
   "cell_type": "raw",
   "id": "38d7abd8",
   "metadata": {},
   "source": [
    "17. How do you distinguish between copy.copy() and copy.deepcopy()?\n",
    "\n",
    "copy.copy() returns the shallow copy whereas copy.deepcopy() returns deep copy. \n",
    "\n",
    "A shallow copy creates a new object and then inserts references into it to the objects found in the original.\n",
    "\n",
    "A deep copy creates a new object and then, recursively, inserts copies into it of the objects found in the original.\n",
    "\n",
    "Example:\n",
    "from copy import copy,deepcopy\n",
    "l1 = [1,2,3,4,[5,6,7,8]]\n",
    "\n",
    "l2 = copy(l1)\n",
    "l2[-1][-2] = 10\n",
    "l2 -> [1,2,3,4,[5,6,10,8]]\n",
    "l1 -> [1,2,3,4,[5,6,10,8]]\n",
    "\n",
    "l3 = deepcopy(l1)\n",
    "l3[-1][-1] = 9\n",
    "l3 -> [1,2,3,4,[5,6,10,9]]\n",
    "l1 -> [1,2,3,4,[5,6,10,8]]"
   ]
  },
  {
   "cell_type": "code",
   "execution_count": 13,
   "id": "bb7dd34d",
   "metadata": {},
   "outputs": [
    {
     "name": "stdout",
     "output_type": "stream",
     "text": [
      "Before changing \"l2\": [1, 2, 3, 4, [5, 6, 7, 8]]\n",
      "After changing \"l2\": [1, 2, 3, 4, [5, 6, 10, 8]]\n",
      "After changing \"l1\":[1, 2, 3, 4, [5, 6, 10, 8]]\n",
      "Before changing \"l3\": [1, 2, 3, 4, [5, 6, 10, 8]]\n",
      "After changing \"l3\": [1, 2, 3, 4, [5, 6, 10, 9]]\n",
      "After changing \"l1\":[1, 2, 3, 4, [5, 6, 10, 8]]\n"
     ]
    }
   ],
   "source": [
    "from copy import copy,deepcopy\n",
    "l1 = [1,2,3,4,[5,6,7,8]]\n",
    "\n",
    "l2 = copy(l1)\n",
    "print('Before changing \"l2\": ' + str(l2))\n",
    "l2[-1][-2] = 10\n",
    "print('After changing \"l2\": ' + str(l2))\n",
    "print('After changing \"l1\":' + str(l1))\n",
    "\n",
    "l3 = deepcopy(l1)\n",
    "print('Before changing \"l3\": ' + str(l3))\n",
    "l3[-1][-1] = 9\n",
    "print('After changing \"l3\": ' + str(l3))\n",
    "print('After changing \"l1\":' + str(l1))"
   ]
  }
 ],
 "metadata": {
  "kernelspec": {
   "display_name": "Python 3",
   "language": "python",
   "name": "python3"
  },
  "language_info": {
   "codemirror_mode": {
    "name": "ipython",
    "version": 3
   },
   "file_extension": ".py",
   "mimetype": "text/x-python",
   "name": "python",
   "nbconvert_exporter": "python",
   "pygments_lexer": "ipython3",
   "version": "3.8.8"
  }
 },
 "nbformat": 4,
 "nbformat_minor": 5
}
