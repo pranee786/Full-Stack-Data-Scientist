{
 "cells": [
  {
   "cell_type": "raw",
   "id": "5cd9f6ef",
   "metadata": {},
   "source": [
    "1. Create an assert statement that throws an AssertionError if the variable spam is a negative\n",
    "integer.\n",
    "\n",
    "assert spam < 0, 'The spam variable is less than 10.'"
   ]
  },
  {
   "cell_type": "code",
   "execution_count": 1,
   "id": "134ad739",
   "metadata": {},
   "outputs": [
    {
     "ename": "AssertionError",
     "evalue": "The spam variable is negative.",
     "output_type": "error",
     "traceback": [
      "\u001b[1;31m---------------------------------------------------------------------------\u001b[0m",
      "\u001b[1;31mAssertionError\u001b[0m                            Traceback (most recent call last)",
      "\u001b[1;32m<ipython-input-1-9e700c3f4902>\u001b[0m in \u001b[0;36m<module>\u001b[1;34m\u001b[0m\n\u001b[0;32m      1\u001b[0m \u001b[0mspam\u001b[0m \u001b[1;33m=\u001b[0m \u001b[1;33m-\u001b[0m\u001b[1;36m1\u001b[0m\u001b[1;33m\u001b[0m\u001b[1;33m\u001b[0m\u001b[0m\n\u001b[1;32m----> 2\u001b[1;33m \u001b[1;32massert\u001b[0m \u001b[0mspam\u001b[0m \u001b[1;33m>\u001b[0m \u001b[1;36m0\u001b[0m\u001b[1;33m,\u001b[0m \u001b[1;34m'The spam variable is negative.'\u001b[0m\u001b[1;33m\u001b[0m\u001b[1;33m\u001b[0m\u001b[0m\n\u001b[0m",
      "\u001b[1;31mAssertionError\u001b[0m: The spam variable is negative."
     ]
    }
   ],
   "source": [
    "spam = -1\n",
    "assert spam > 0, 'The spam variable is negative.'"
   ]
  },
  {
   "cell_type": "raw",
   "id": "05eb6258",
   "metadata": {},
   "source": [
    "2. Write an assert statement that triggers an AssertionError if the variables eggs and bacon contain strings that are the same as each other, even if their cases are different (that is, 'hello' and 'hello' are considered the same, and 'goodbye' and 'GOODbye' are also considered the same).\n",
    "\n",
    "assert eggs.lower() != bacon.lower(),'The eggs and bacon contain string that are same.'"
   ]
  },
  {
   "cell_type": "code",
   "execution_count": 2,
   "id": "977f9070",
   "metadata": {},
   "outputs": [
    {
     "ename": "AssertionError",
     "evalue": "The eggs and bacon contain string that are same.",
     "output_type": "error",
     "traceback": [
      "\u001b[1;31m---------------------------------------------------------------------------\u001b[0m",
      "\u001b[1;31mAssertionError\u001b[0m                            Traceback (most recent call last)",
      "\u001b[1;32m<ipython-input-2-381353ea8cfd>\u001b[0m in \u001b[0;36m<module>\u001b[1;34m\u001b[0m\n\u001b[0;32m      1\u001b[0m \u001b[0meggs\u001b[0m \u001b[1;33m=\u001b[0m \u001b[1;34m'hello'\u001b[0m\u001b[1;33m\u001b[0m\u001b[1;33m\u001b[0m\u001b[0m\n\u001b[0;32m      2\u001b[0m \u001b[0mbacon\u001b[0m \u001b[1;33m=\u001b[0m \u001b[1;34m'hello'\u001b[0m\u001b[1;33m\u001b[0m\u001b[1;33m\u001b[0m\u001b[0m\n\u001b[1;32m----> 3\u001b[1;33m \u001b[1;32massert\u001b[0m \u001b[0meggs\u001b[0m\u001b[1;33m.\u001b[0m\u001b[0mlower\u001b[0m\u001b[1;33m(\u001b[0m\u001b[1;33m)\u001b[0m \u001b[1;33m!=\u001b[0m \u001b[0mbacon\u001b[0m\u001b[1;33m.\u001b[0m\u001b[0mlower\u001b[0m\u001b[1;33m(\u001b[0m\u001b[1;33m)\u001b[0m\u001b[1;33m,\u001b[0m\u001b[1;34m'The eggs and bacon contain string that are same.'\u001b[0m\u001b[1;33m\u001b[0m\u001b[1;33m\u001b[0m\u001b[0m\n\u001b[0m",
      "\u001b[1;31mAssertionError\u001b[0m: The eggs and bacon contain string that are same."
     ]
    }
   ],
   "source": [
    "eggs = 'hello'\n",
    "bacon = 'hello'\n",
    "assert eggs.lower() != bacon.lower(),'The eggs and bacon contain string that are same.'"
   ]
  },
  {
   "cell_type": "code",
   "execution_count": 3,
   "id": "21397a52",
   "metadata": {},
   "outputs": [
    {
     "ename": "AssertionError",
     "evalue": "The eggs and bacon contain string that are same.",
     "output_type": "error",
     "traceback": [
      "\u001b[1;31m---------------------------------------------------------------------------\u001b[0m",
      "\u001b[1;31mAssertionError\u001b[0m                            Traceback (most recent call last)",
      "\u001b[1;32m<ipython-input-3-9eb57b374732>\u001b[0m in \u001b[0;36m<module>\u001b[1;34m\u001b[0m\n\u001b[0;32m      1\u001b[0m \u001b[0meggs\u001b[0m \u001b[1;33m=\u001b[0m \u001b[1;34m'goodbye'\u001b[0m\u001b[1;33m\u001b[0m\u001b[1;33m\u001b[0m\u001b[0m\n\u001b[0;32m      2\u001b[0m \u001b[0mbacon\u001b[0m \u001b[1;33m=\u001b[0m \u001b[1;34m'GOODbye'\u001b[0m\u001b[1;33m\u001b[0m\u001b[1;33m\u001b[0m\u001b[0m\n\u001b[1;32m----> 3\u001b[1;33m \u001b[1;32massert\u001b[0m \u001b[0meggs\u001b[0m\u001b[1;33m.\u001b[0m\u001b[0mlower\u001b[0m\u001b[1;33m(\u001b[0m\u001b[1;33m)\u001b[0m \u001b[1;33m!=\u001b[0m \u001b[0mbacon\u001b[0m\u001b[1;33m.\u001b[0m\u001b[0mlower\u001b[0m\u001b[1;33m(\u001b[0m\u001b[1;33m)\u001b[0m\u001b[1;33m,\u001b[0m\u001b[1;34m'The eggs and bacon contain string that are same.'\u001b[0m\u001b[1;33m\u001b[0m\u001b[1;33m\u001b[0m\u001b[0m\n\u001b[0m",
      "\u001b[1;31mAssertionError\u001b[0m: The eggs and bacon contain string that are same."
     ]
    }
   ],
   "source": [
    "eggs = 'goodbye'\n",
    "bacon = 'GOODbye'\n",
    "assert eggs.lower() != bacon.lower(),'The eggs and bacon contain string that are same.'"
   ]
  },
  {
   "cell_type": "raw",
   "id": "868e45e8",
   "metadata": {},
   "source": [
    "3. Create an assert statement that throws an AssertionError every time.\n",
    "\n",
    "assert False,'The AssertionError always triggers.'"
   ]
  },
  {
   "cell_type": "code",
   "execution_count": 4,
   "id": "11506d99",
   "metadata": {},
   "outputs": [
    {
     "ename": "AssertionError",
     "evalue": "The AssertionError always triggers.",
     "output_type": "error",
     "traceback": [
      "\u001b[1;31m---------------------------------------------------------------------------\u001b[0m",
      "\u001b[1;31mAssertionError\u001b[0m                            Traceback (most recent call last)",
      "\u001b[1;32m<ipython-input-4-5586720d3457>\u001b[0m in \u001b[0;36m<module>\u001b[1;34m\u001b[0m\n\u001b[1;32m----> 1\u001b[1;33m \u001b[1;32massert\u001b[0m \u001b[1;32mFalse\u001b[0m\u001b[1;33m,\u001b[0m\u001b[1;34m'The AssertionError always triggers.'\u001b[0m\u001b[1;33m\u001b[0m\u001b[1;33m\u001b[0m\u001b[0m\n\u001b[0m",
      "\u001b[1;31mAssertionError\u001b[0m: The AssertionError always triggers."
     ]
    }
   ],
   "source": [
    "assert False,'The AssertionError always triggers.'"
   ]
  },
  {
   "cell_type": "raw",
   "id": "1d07fd45",
   "metadata": {},
   "source": [
    "4. What are the two lines that must be present in your software in order to call logging.debug()?\n",
    "\n",
    "The two lines that must be present in program:\n",
    "\n",
    "import logging\n",
    "logging.basicConfig(level=logging.DEBUG,format='%(asctime)s - %(levelname)s - %(message)s')"
   ]
  },
  {
   "cell_type": "raw",
   "id": "d75fd863",
   "metadata": {},
   "source": [
    "5. What are the two lines that your program must have in order to have logging.debug() send a logging message to a file named programLog.txt?\n",
    "\n",
    "The two lines that must be present in program:\n",
    "\n",
    "import logging\n",
    "logging.basicConfig(filename='programLog.txt',level=logging.DEBUG,format='%(asctime)s - %(levelname)s - %(message)s')"
   ]
  },
  {
   "cell_type": "raw",
   "id": "5fc005ee",
   "metadata": {},
   "source": [
    "6. What are the five levels of logging?\n",
    "\n",
    "The five levels of logging are\n",
    "    1. Debug\n",
    "    2. Info\n",
    "    3. Warning\n",
    "    4. Error\n",
    "    5. Critical"
   ]
  },
  {
   "cell_type": "raw",
   "id": "b5551a3f",
   "metadata": {},
   "source": [
    "7. What line of code would you add to your software to disable all logging messages?\n",
    "\n",
    "To disable logging we need to set the log level either to warning or critical which will disable logging.\n",
    "logging.disable(logging.CRITICAL)"
   ]
  },
  {
   "cell_type": "raw",
   "id": "54bb4eaa",
   "metadata": {},
   "source": [
    "8.Why is using logging messages better than using print() to display the same message?\n",
    "\n",
    "Logging messages is easy to see where and when a logging call is being made from.\n",
    "\n",
    "In the deployment, the project is meant to be imported by other tools, where it is bad practice to print things to stdout. But with logging, it will be helpful to log all the statements to a file which can be viewed anytime."
   ]
  },
  {
   "cell_type": "raw",
   "id": "833a20b7",
   "metadata": {},
   "source": [
    "9. What are the differences between the Step Over, Step In, and Step Out buttons in the debugger?\n",
    "\n",
    "The step in buttion will move the debugger into a function call.\n",
    "The step over buttion will quickly execute the function call.\n",
    "The step out button will quickly execute the rest of the code until it steps out of the function it currently is in."
   ]
  },
  {
   "cell_type": "raw",
   "id": "78b3f597",
   "metadata": {},
   "source": [
    "10.After you click Continue, when will the debugger stop\n",
    "\n",
    "After we click Go, the debugger will stop when it has reached the end of the program or a line with a breakpoint."
   ]
  },
  {
   "cell_type": "raw",
   "id": "153901af",
   "metadata": {},
   "source": [
    "11. What is the concept of a breakpoint?\n",
    "\n",
    "A breakpoint is a setting on a line of code that causes the debugger to pause when the program execution reaches the line"
   ]
  }
 ],
 "metadata": {
  "kernelspec": {
   "display_name": "Python 3",
   "language": "python",
   "name": "python3"
  },
  "language_info": {
   "codemirror_mode": {
    "name": "ipython",
    "version": 3
   },
   "file_extension": ".py",
   "mimetype": "text/x-python",
   "name": "python",
   "nbconvert_exporter": "python",
   "pygments_lexer": "ipython3",
   "version": "3.8.8"
  }
 },
 "nbformat": 4,
 "nbformat_minor": 5
}
