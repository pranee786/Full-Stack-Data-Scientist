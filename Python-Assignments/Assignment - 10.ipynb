{
 "cells": [
  {
   "cell_type": "raw",
   "id": "248f9e7d",
   "metadata": {},
   "source": [
    "1. How do you distinguish between shutil.copy() and shutil.copytree()?\n",
    "\n",
    "shutil.copy() will copy a single file\n",
    "shutil.copytree() will copy an entire folder and every folder and file contained in it."
   ]
  },
  {
   "cell_type": "raw",
   "id": "c54946f7",
   "metadata": {},
   "source": [
    "2. What function is used to rename files??\n",
    "\n",
    "os.rename() method in Python is used to rename a file or directory."
   ]
  },
  {
   "cell_type": "raw",
   "id": "933794a1",
   "metadata": {},
   "source": [
    "3. What is the difference between the delete functions in the send2trash and shutil modules?\n",
    "\n",
    "The send2trash functions will move a file or folder to the recycle bin, while shutil functions will permanently delete files and folders."
   ]
  },
  {
   "cell_type": "raw",
   "id": "34af5348",
   "metadata": {},
   "source": [
    "4.ZipFile objects have a close() method just like File objects’ close() method. What ZipFile method is\n",
    "equivalent to File objects’ open() method?\n",
    "\n",
    "zipfile.ZipFile() function is equivalent to the open() function. The first argument is the filename and second argument is the mode to open the ZIP file."
   ]
  },
  {
   "cell_type": "raw",
   "id": "15769c6d",
   "metadata": {},
   "source": [
    "5. Create a programme that searches a folder tree for files with a certain file extension (such as .pdf\n",
    "or .jpg). Copy these files from whatever location they are in to a new folder."
   ]
  },
  {
   "cell_type": "code",
   "execution_count": 1,
   "id": "2188fb91",
   "metadata": {},
   "outputs": [
    {
     "name": "stdout",
     "output_type": "stream",
     "text": [
      "['0.jpg', 'sample1.pdf', 'sample10.pdf', 'sample11.pdf', 'sample2.pdf', 'sample3.pdf', 'sample4.pdf', 'sample5.pdf', 'sample6.pdf', 'sample7.pdf', 'sample8.pdf', 'sample9.pdf', 'sample9reversed.pdf']\n",
      "File copied:  0.jpg\n",
      "File copied:  sample1.pdf\n",
      "File copied:  sample10.pdf\n",
      "File copied:  sample11.pdf\n",
      "File copied:  sample2.pdf\n",
      "File copied:  sample3.pdf\n",
      "File copied:  sample4.pdf\n",
      "File copied:  sample5.pdf\n",
      "File copied:  sample6.pdf\n",
      "File copied:  sample7.pdf\n",
      "File copied:  sample8.pdf\n",
      "File copied:  sample9.pdf\n",
      "File copied:  sample9reversed.pdf\n"
     ]
    }
   ],
   "source": [
    "import os\n",
    "import shutil\n",
    "def copy_files(path,new_path):\n",
    "    files = os.listdir(path)\n",
    "    filter_files = list(filter(lambda x: x.endswith('.pdf') or x.endswith('jpg'),files))\n",
    "    print(filter_files)\n",
    "    for file in filter_files:\n",
    "        file_path = path + f'\\{file}'\n",
    "        shutil.copy(file_path,new_path)\n",
    "        print('File copied: ',file)\n",
    "    \n",
    "path = 'F:\\Python Scripts\\pdf'\n",
    "new_path = 'F:\\\\'\n",
    "copy_files(path,new_path)\n"
   ]
  },
  {
   "cell_type": "code",
   "execution_count": null,
   "id": "7e82bfbb",
   "metadata": {},
   "outputs": [],
   "source": []
  }
 ],
 "metadata": {
  "kernelspec": {
   "display_name": "Python 3",
   "language": "python",
   "name": "python3"
  },
  "language_info": {
   "codemirror_mode": {
    "name": "ipython",
    "version": 3
   },
   "file_extension": ".py",
   "mimetype": "text/x-python",
   "name": "python",
   "nbconvert_exporter": "python",
   "pygments_lexer": "ipython3",
   "version": "3.8.8"
  }
 },
 "nbformat": 4,
 "nbformat_minor": 5
}
