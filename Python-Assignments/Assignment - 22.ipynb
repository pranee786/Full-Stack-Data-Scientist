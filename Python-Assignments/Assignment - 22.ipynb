{
 "cells": [
  {
   "cell_type": "markdown",
   "id": "a733a894",
   "metadata": {},
   "source": [
    "1. What is the result of the code, and explain?\n",
    "\n",
    "        X = 'iNeuron'\n",
    "        def func():\n",
    "            print(X)\n",
    "\n",
    "        func()"
   ]
  },
  {
   "cell_type": "markdown",
   "id": "8141d2c4",
   "metadata": {},
   "source": [
    "The result of the above code is 'iNeuron'. As their is no local variable X, it considers the value of global variable of X, which is 'iNeuron'."
   ]
  },
  {
   "cell_type": "code",
   "execution_count": 1,
   "id": "9007cc7f",
   "metadata": {},
   "outputs": [
    {
     "name": "stdout",
     "output_type": "stream",
     "text": [
      "iNeuron\n"
     ]
    }
   ],
   "source": [
    "X = 'iNeuron'\n",
    "def func():\n",
    "     print(X)\n",
    "\n",
    "func()"
   ]
  },
  {
   "cell_type": "markdown",
   "id": "939d46b7",
   "metadata": {},
   "source": [
    "2. What is the result of the code, and explain?\n",
    "\n",
    "        X = 'iNeuron'\n",
    "        def func():\n",
    "            X = 'NI!'\n",
    "\n",
    "        func()\n",
    "        print(X)"
   ]
  },
  {
   "cell_type": "markdown",
   "id": "b32508fb",
   "metadata": {},
   "source": [
    "The result of the above code is 'iNeuron', the value of X in the function is 'NI!' which sustains only within the function, outside the function the global value of X remains same even after calling the function i.e., 'iNeuron'."
   ]
  },
  {
   "cell_type": "code",
   "execution_count": 2,
   "id": "01c95103",
   "metadata": {},
   "outputs": [
    {
     "name": "stdout",
     "output_type": "stream",
     "text": [
      "iNeuron\n"
     ]
    }
   ],
   "source": [
    "X = 'iNeuron'\n",
    "def func():\n",
    "    X = 'NI!'\n",
    "    \n",
    "func()\n",
    "print(X)"
   ]
  },
  {
   "cell_type": "markdown",
   "id": "269e551e",
   "metadata": {},
   "source": [
    "3. What does this code print, and why?\n",
    "\n",
    "        X = 'iNeuron'\n",
    "        def func():\n",
    "            X = 'NI'\n",
    "            print(X)\n",
    "\n",
    "        func()\n",
    "        print(X)"
   ]
  },
  {
   "cell_type": "markdown",
   "id": "04054fcc",
   "metadata": {},
   "source": [
    "First print output is 'NI' and second print output is 'iNeuron'. The local variable 'X' value is 'NI' in the function, so it is printed in first print statement. The global value doesn't change after the function call, so the 'iNeuron' is printed in the second print statement."
   ]
  },
  {
   "cell_type": "code",
   "execution_count": 3,
   "id": "386772ce",
   "metadata": {},
   "outputs": [
    {
     "name": "stdout",
     "output_type": "stream",
     "text": [
      "NI\n",
      "iNeuron\n"
     ]
    }
   ],
   "source": [
    "X = 'iNeuron'\n",
    "def func():\n",
    "    X = 'NI'\n",
    "    print(X)\n",
    "    \n",
    "func()\n",
    "print(X)"
   ]
  },
  {
   "cell_type": "markdown",
   "id": "ec077903",
   "metadata": {},
   "source": [
    "4. What output does this code produce? Why?\n",
    "\n",
    "        X = 'iNeuron'\n",
    "        def func():\n",
    "            global X\n",
    "            X = 'NI'\n",
    "\n",
    "        func()\n",
    "        print(X)"
   ]
  },
  {
   "cell_type": "markdown",
   "id": "58996045",
   "metadata": {},
   "source": [
    "The result of above code is 'NI' because within the function we are trying to access the global variable of X and change the value of it."
   ]
  },
  {
   "cell_type": "code",
   "execution_count": 4,
   "id": "60eb90f0",
   "metadata": {},
   "outputs": [
    {
     "name": "stdout",
     "output_type": "stream",
     "text": [
      "NI\n"
     ]
    }
   ],
   "source": [
    "X = 'iNeuron'\n",
    "def func():\n",
    "    global X\n",
    "    X = 'NI'\n",
    "    \n",
    "func()\n",
    "print(X)"
   ]
  },
  {
   "cell_type": "markdown",
   "id": "89ae1cb2",
   "metadata": {},
   "source": [
    "5. What about this code—what’s the output, and why?\n",
    "\n",
    "        X = 'iNeuron'\n",
    "        def func():\n",
    "            X = 'NI'\n",
    "\n",
    "            def nested():\n",
    "                print(X)\n",
    "\n",
    "            nested()\n",
    "\n",
    "        func()\n",
    "        X"
   ]
  },
  {
   "cell_type": "markdown",
   "id": "a6433d82",
   "metadata": {},
   "source": [
    "The output of above code is 'NI' and 'iNeuron', because nested() function which is the inside the func() function is accessing the local value of X which is in func() but still the value of X is not changed in the function. So the second output is 'iNeuron'."
   ]
  },
  {
   "cell_type": "code",
   "execution_count": 5,
   "id": "9994b231",
   "metadata": {},
   "outputs": [
    {
     "name": "stdout",
     "output_type": "stream",
     "text": [
      "NI\n",
      "iNeuron\n"
     ]
    }
   ],
   "source": [
    "X = 'iNeuron'\n",
    "def func():\n",
    "    X = 'NI'\n",
    "    \n",
    "    def nested():\n",
    "        print(X)\n",
    "        \n",
    "    nested()\n",
    "    \n",
    "func()\n",
    "print(X)"
   ]
  },
  {
   "cell_type": "markdown",
   "id": "61c3480f",
   "metadata": {},
   "source": [
    "6. How about this code: what is its output in Python 3, and explain?\n",
    "    \n",
    "        def func():\n",
    "            X = 'NI'\n",
    "            def nested():\n",
    "                nonlocal X\n",
    "                X = 'spam'\n",
    "            nested()\n",
    "            print(X)\n",
    "\n",
    "        func()"
   ]
  },
  {
   "cell_type": "markdown",
   "id": "10709d93",
   "metadata": {},
   "source": [
    "The output of above code is 'spam', because nonlocal variable makes the variable bounded to the nearest scope. So nested() function is the nearest scope of X, whose value is 'spam'."
   ]
  },
  {
   "cell_type": "code",
   "execution_count": 6,
   "id": "66f1d7a8",
   "metadata": {},
   "outputs": [
    {
     "name": "stdout",
     "output_type": "stream",
     "text": [
      "spam\n"
     ]
    }
   ],
   "source": [
    "def func():\n",
    "    X = 'NI'\n",
    "    def nested():\n",
    "        nonlocal X\n",
    "        X = 'spam'\n",
    "    nested()\n",
    "    print(X)\n",
    "    \n",
    "func()"
   ]
  }
 ],
 "metadata": {
  "kernelspec": {
   "display_name": "Python 3",
   "language": "python",
   "name": "python3"
  },
  "language_info": {
   "codemirror_mode": {
    "name": "ipython",
    "version": 3
   },
   "file_extension": ".py",
   "mimetype": "text/x-python",
   "name": "python",
   "nbconvert_exporter": "python",
   "pygments_lexer": "ipython3",
   "version": "3.8.8"
  }
 },
 "nbformat": 4,
 "nbformat_minor": 5
}
