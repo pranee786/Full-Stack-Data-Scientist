{
 "cells": [
  {
   "cell_type": "raw",
   "id": "e56b123a",
   "metadata": {},
   "source": [
    "1. To what does a relative path refer?\n",
    "\n",
    "A relative path refers to a path to some file with respect to current working directory.\n",
    "\n",
    "Example:\n",
    "File location is D:\\\\Python\\\\sample.py\n",
    "Current working directory os D:\\\\\n",
    "Then relative file path is Python\\\\sample.py"
   ]
  },
  {
   "cell_type": "raw",
   "id": "f565868f",
   "metadata": {},
   "source": [
    "2. What does an absolute path start with your operating system?\n",
    "\n",
    "An absolute path refers to the complete details needed to locate a file or folder, start from the root element and ending with other subdirectories."
   ]
  },
  {
   "cell_type": "raw",
   "id": "7179a199",
   "metadata": {},
   "source": [
    "3. What do the functions os.getcwd() and os.chdir() do?\n",
    "\n",
    "os.getcwd() gives the current working directory as result.\n",
    "os.chdir() changes the current working directory"
   ]
  },
  {
   "cell_type": "code",
   "execution_count": 1,
   "id": "360b39a5",
   "metadata": {},
   "outputs": [
    {
     "data": {
      "text/plain": [
       "'F:\\\\Full Stack Data Scientist Course\\\\Python\\\\Assignments'"
      ]
     },
     "execution_count": 1,
     "metadata": {},
     "output_type": "execute_result"
    }
   ],
   "source": [
    "import os\n",
    "os.getcwd()"
   ]
  },
  {
   "cell_type": "code",
   "execution_count": 2,
   "id": "27b0ea73",
   "metadata": {},
   "outputs": [
    {
     "data": {
      "text/plain": [
       "'F:\\\\Full Stack Data Scientist Course'"
      ]
     },
     "execution_count": 2,
     "metadata": {},
     "output_type": "execute_result"
    }
   ],
   "source": [
    "os.chdir(\"F:\\\\Full Stack Data Scientist Course\")\n",
    "os.getcwd()"
   ]
  },
  {
   "cell_type": "raw",
   "id": "01d82d72",
   "metadata": {},
   "source": [
    "4. What are the . and .. folders?\n",
    "\n",
    "The . folder signifies the current directory.\n",
    "The .. folder signifies the parent directory."
   ]
  },
  {
   "cell_type": "raw",
   "id": "19089a5c",
   "metadata": {},
   "source": [
    "5. In C:\\bacon\\eggs\\spam.txt, which part is the dir name, and which part is the base name?\n",
    "\n",
    "\"C:\\bacon\\eggs\" is the dir name and \"spam.txt\" is basename"
   ]
  },
  {
   "cell_type": "code",
   "execution_count": 3,
   "id": "826ef422",
   "metadata": {},
   "outputs": [
    {
     "name": "stdout",
     "output_type": "stream",
     "text": [
      "spam.txt\n",
      "C:\\bacon\\eggs\n"
     ]
    }
   ],
   "source": [
    "path = \"C:\\\\bacon\\\\eggs\\\\spam.txt\"\n",
    "print(os.path.basename(path))\n",
    "print(os.path.dirname(path))"
   ]
  },
  {
   "cell_type": "raw",
   "id": "d3835179",
   "metadata": {},
   "source": [
    "6. What are the three “mode” arguments that can be passed to the open() function?\n",
    "\n",
    "The three modes arguments that can be passed to open() function are\n",
    "    1. 'r' - For reading a file\n",
    "    2. 'w' - For writing a file\n",
    "    3. 'a' - For appending a file"
   ]
  },
  {
   "cell_type": "raw",
   "id": "01c80a9d",
   "metadata": {},
   "source": [
    "7. What happens if an existing file is opened in write mode?\n",
    "\n",
    "If an existing file is opened in write mode, the data within the file is erased and compelety overwritten."
   ]
  },
  {
   "cell_type": "raw",
   "id": "2279457c",
   "metadata": {},
   "source": [
    "8. How do you tell the difference between read() and readlines()?\n",
    "\n",
    "The read() method returns the file's entire content as single string value.\n",
    "\n",
    "The readlines() method returns a list of stirng, where each string is a line from the file's contents."
   ]
  },
  {
   "cell_type": "raw",
   "id": "215c6b01",
   "metadata": {},
   "source": [
    "9. What data structure does a shelf value resemble?\n",
    "\n",
    "A shelf value resembles as a dictionary value, it has keys and values, along with keys() and values() methods that work similarly to the dictionary methods of the same names."
   ]
  }
 ],
 "metadata": {
  "kernelspec": {
   "display_name": "Python 3",
   "language": "python",
   "name": "python3"
  },
  "language_info": {
   "codemirror_mode": {
    "name": "ipython",
    "version": 3
   },
   "file_extension": ".py",
   "mimetype": "text/x-python",
   "name": "python",
   "nbconvert_exporter": "python",
   "pygments_lexer": "ipython3",
   "version": "3.8.8"
  }
 },
 "nbformat": 4,
 "nbformat_minor": 5
}
