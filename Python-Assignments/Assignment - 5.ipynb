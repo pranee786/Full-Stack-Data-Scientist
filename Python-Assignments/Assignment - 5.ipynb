{
 "cells": [
  {
   "cell_type": "raw",
   "id": "0ab6d800",
   "metadata": {},
   "source": [
    "1. What does an empty dictionary's code look like?\n",
    "\n",
    "dic = {} or dic = dict(), both of syntaxes create an empty dictionary."
   ]
  },
  {
   "cell_type": "raw",
   "id": "2b0bff3d",
   "metadata": {},
   "source": [
    "2. What is the value of a dictionary value with the key 'foo' and the value 42?\n",
    "\n",
    "d = {'foo':42}"
   ]
  },
  {
   "cell_type": "raw",
   "id": "ab15c744",
   "metadata": {},
   "source": [
    "3. What is the most significant distinction between a dictionary and a list?\n",
    "\n",
    "Dictionary and List, both are mutable objects. Both lists are dictionary store the elements, but in dictionary it is stored in the from of key-value pairs. And items stored in the dictionary are unordered collection whereas the list stores the elements in ordered.\n",
    "\n",
    "Example:\n",
    "l = [1,2,3,4]\n",
    "d = {'key1':'value1','key2':'value2'}"
   ]
  },
  {
   "cell_type": "raw",
   "id": "ffd74956",
   "metadata": {},
   "source": [
    "4. What happens if you try to access spam['foo'] if spam is {'bar':100}?\n",
    "\n",
    "When we try to access spam['foo'] it throws an error stating KeyError. Which means that there is no key called 'foo' within the dictionary."
   ]
  },
  {
   "cell_type": "raw",
   "id": "43e75872",
   "metadata": {},
   "source": [
    "5. If a dictionary is stored in spam, what is the difference between the expressions 'cat' in spam and 'cat' in spam.keys()?\n",
    "\n",
    "There is no difference between both statements. Both statements are using 'in' operator to check whether value 'cat' exists in dictionary keys or not. "
   ]
  },
  {
   "cell_type": "raw",
   "id": "15733036",
   "metadata": {},
   "source": [
    "6. If a dictionary is stored in spam, what is the difference between the expressions 'cat' in spam and\n",
    "'cat' in spam.values()?\n",
    "\n",
    "'cat' in spam will check whether the value 'cat' is present in dictionary keys or not.\n",
    "\n",
    "'cat' in spam.values() will check whether the value 'cat' is present in dictionary values or not."
   ]
  },
  {
   "cell_type": "raw",
   "id": "75fd016c",
   "metadata": {},
   "source": [
    "7. What is a shortcut for the following code?\n",
    "if 'color' not in spam:\n",
    "    spam[color] = 'block'\n",
    "    \n",
    "spam.setdefault('color', 'black')"
   ]
  },
  {
   "cell_type": "raw",
   "id": "af58e651",
   "metadata": {},
   "source": [
    "8. How do you \"pretty print\" dictionary values using which module and function?\n",
    "\n",
    "import pprint\n",
    "d = {'color':black}\n",
    "pprint.pprint(list(d.values())\n",
    "\n",
    "Above statement will allow to print the values in the dictionary as a list."
   ]
  }
 ],
 "metadata": {
  "kernelspec": {
   "display_name": "Python 3",
   "language": "python",
   "name": "python3"
  },
  "language_info": {
   "codemirror_mode": {
    "name": "ipython",
    "version": 3
   },
   "file_extension": ".py",
   "mimetype": "text/x-python",
   "name": "python",
   "nbconvert_exporter": "python",
   "pygments_lexer": "ipython3",
   "version": "3.8.8"
  }
 },
 "nbformat": 4,
 "nbformat_minor": 5
}
