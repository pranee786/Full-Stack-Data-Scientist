{
 "cells": [
  {
   "cell_type": "markdown",
   "id": "f7184619",
   "metadata": {},
   "source": [
    "1. What is the result of the code, and why?\n",
    "\n",
    "        def func(a,b=6,c=8):\n",
    "            print(a,b,c)\n",
    "\n",
    "        func(1,2)"
   ]
  },
  {
   "cell_type": "markdown",
   "id": "80c49db0",
   "metadata": {},
   "source": [
    "The output of above code is 1,2,8. Because in the function definition, the default values are given for b and c. So in the function call, it is considered as a=1,b=2. Since c value is not given, default value is considered."
   ]
  },
  {
   "cell_type": "code",
   "execution_count": 1,
   "id": "d48a1217",
   "metadata": {},
   "outputs": [
    {
     "name": "stdout",
     "output_type": "stream",
     "text": [
      "1 2 8\n"
     ]
    }
   ],
   "source": [
    "def func(a,b=6,c=8):\n",
    "    print(a,b,c)\n",
    "\n",
    "func(1,2)"
   ]
  },
  {
   "cell_type": "markdown",
   "id": "44f4cfeb",
   "metadata": {},
   "source": [
    "2. What is the result of this code, and why?\n",
    "\n",
    "        def func(a,b,c=5):\n",
    "            print(a,b,c)\n",
    "\n",
    "        func(1,c=3,b=2)"
   ]
  },
  {
   "cell_type": "markdown",
   "id": "9016e02e",
   "metadata": {},
   "source": [
    "The output of above code is 1,2,3. In the function call, for b,c it is given as keyword argument. So, it is treated as a=1,b=2,c=3"
   ]
  },
  {
   "cell_type": "code",
   "execution_count": 2,
   "id": "b3eef5c7",
   "metadata": {},
   "outputs": [
    {
     "name": "stdout",
     "output_type": "stream",
     "text": [
      "1 2 3\n"
     ]
    }
   ],
   "source": [
    "def func(a,b,c=5):\n",
    "    print(a,b,c)\n",
    "    \n",
    "func(1,c=3,b=2)"
   ]
  },
  {
   "cell_type": "markdown",
   "id": "963c8a9d",
   "metadata": {},
   "source": [
    "3. How about this code: what is its result, and why?\n",
    "    \n",
    "        def func(a,*pargs):\n",
    "            print(a,pargs)\n",
    "\n",
    "        \n",
    "        func(1,2,3)"
   ]
  },
  {
   "cell_type": "markdown",
   "id": "bba87edb",
   "metadata": {},
   "source": [
    "The output of above is 1 (2,3). Argument 'pargs' is positional parameters. So a=1, whatever after 1 are treated as 'pargs' which is tuple"
   ]
  },
  {
   "cell_type": "code",
   "execution_count": 3,
   "id": "15a012e3",
   "metadata": {},
   "outputs": [
    {
     "name": "stdout",
     "output_type": "stream",
     "text": [
      "1 (2, 3)\n"
     ]
    }
   ],
   "source": [
    "def func(a,*pargs):\n",
    "    print(a,pargs)\n",
    "    \n",
    "func(1,2,3)"
   ]
  },
  {
   "cell_type": "markdown",
   "id": "6a37dcc8",
   "metadata": {},
   "source": [
    "4. What does this code print, and why?\n",
    "\n",
    "        def func(a,**kargs):\n",
    "            print(a,kargs)\n",
    "\n",
    "        func(a=1,b=2,c=3)"
   ]
  },
  {
   "cell_type": "markdown",
   "id": "3a60a8f4",
   "metadata": {},
   "source": [
    "The output is 1 {'b':2,'c':3}. Parameter **kargs is keyword arguments. So in the function call b=2,c=3 are keyword arguments which is dictionary type"
   ]
  },
  {
   "cell_type": "code",
   "execution_count": 4,
   "id": "9d6e8a9c",
   "metadata": {},
   "outputs": [
    {
     "name": "stdout",
     "output_type": "stream",
     "text": [
      "1 {'b': 2, 'c': 3}\n"
     ]
    }
   ],
   "source": [
    "def func(a,**kargs):\n",
    "    print(a,kargs)\n",
    "    \n",
    "func(a=1,b=2,c=3)"
   ]
  },
  {
   "cell_type": "markdown",
   "id": "ef66455a",
   "metadata": {},
   "source": [
    "5. What gets printed by this, and explain?\n",
    "\n",
    "        def func(a,b,c=8,d=5): print(a,b,c,d)\n",
    "\n",
    "        func(1,*(5,6))"
   ]
  },
  {
   "cell_type": "markdown",
   "id": "c032de6c",
   "metadata": {},
   "source": [
    "The output is 1 5 6 5 because in the function call 1 is considered for a, *(5,6) is considered to be positional argument, so it is considered as b=5,c=6 and d considers the default value which is 5."
   ]
  },
  {
   "cell_type": "code",
   "execution_count": 5,
   "id": "120e8566",
   "metadata": {},
   "outputs": [
    {
     "name": "stdout",
     "output_type": "stream",
     "text": [
      "1 5 6 5\n"
     ]
    }
   ],
   "source": [
    "def func(a,b,c=8,d=5): print(a,b,c,d)\n",
    "    \n",
    "func(1,*(5,6))"
   ]
  },
  {
   "cell_type": "markdown",
   "id": "0cee600a",
   "metadata": {},
   "source": [
    "6. what is the result of this, and explain?\n",
    "\n",
    "        def func(a,b,c): a=2;b[0]='x';c['a']='y'\n",
    "\n",
    "        l=1;m=[1];n={'a':0}    \n",
    "        func(l,m,n)\n",
    "        print(l,m,n)"
   ]
  },
  {
   "cell_type": "markdown",
   "id": "8646cb0b",
   "metadata": {},
   "source": [
    "The output is 1 ['x'] {'a':'y'}, because int is an immutable element. So the value of l doesn't change even after the function call, where as list and dict are mutable elements, so the values of m and n are changed after the function call."
   ]
  },
  {
   "cell_type": "code",
   "execution_count": 6,
   "id": "2a14e1e2",
   "metadata": {},
   "outputs": [
    {
     "name": "stdout",
     "output_type": "stream",
     "text": [
      "1 ['x'] {'a': 'y'}\n"
     ]
    }
   ],
   "source": [
    "def func(a,b,c): a=2;b[0]='x';c['a']='y'\n",
    "\n",
    "l=1;m=[1];n={'a':0}    \n",
    "func(l,m,n)\n",
    "print(l,m,n)"
   ]
  }
 ],
 "metadata": {
  "kernelspec": {
   "display_name": "Python 3",
   "language": "python",
   "name": "python3"
  },
  "language_info": {
   "codemirror_mode": {
    "name": "ipython",
    "version": 3
   },
   "file_extension": ".py",
   "mimetype": "text/x-python",
   "name": "python",
   "nbconvert_exporter": "python",
   "pygments_lexer": "ipython3",
   "version": "3.8.8"
  }
 },
 "nbformat": 4,
 "nbformat_minor": 5
}
