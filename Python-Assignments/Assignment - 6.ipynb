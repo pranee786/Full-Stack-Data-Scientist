{
 "cells": [
  {
   "cell_type": "raw",
   "id": "1e4bc165",
   "metadata": {},
   "source": [
    "1. What are escape characters, and how do you use them?\n",
    "\n",
    "In Python strings, the backslash \"\\\" is a special character which is called Escape Characters. It is used in representing certain whitespace characters: \"\\t\" is used for tab, \"\\n\" is used for new line, and \"\\r\" is used for carriage return and so on."
   ]
  },
  {
   "cell_type": "raw",
   "id": "4c86fc34",
   "metadata": {},
   "source": [
    "2. What do the escape characters n and t stand for?\n",
    "\n",
    "Escape character \"\\n\" is used for representing the new line in the string.\n",
    "\n",
    "Escape character \"\\t\" is used for representing the tab space in the string."
   ]
  },
  {
   "cell_type": "raw",
   "id": "109071a1",
   "metadata": {},
   "source": [
    "3. What is the way to include backslash characters in a string?\n",
    "\n",
    "To include backslash characters in a string, we need to represent it with two backslashs \"\\\\\".\n",
    "\n",
    "Example:\n",
    "print(\"The string with backslash '\\\\'\")"
   ]
  },
  {
   "cell_type": "raw",
   "id": "d3a9bbec",
   "metadata": {},
   "source": [
    "4. The string \"Howl's Moving Castle\" is a correct value. Why isn't the single quote character in the word Howl's not escaped a problem?\n",
    "\n",
    "The single quote character can be enclosed inside the double quotes and vice-versa. So in the string \"Howl's Moving Castle\" not escaped the problem."
   ]
  },
  {
   "cell_type": "raw",
   "id": "755e1f34",
   "metadata": {},
   "source": [
    "5. How do you write a string of newlines if you don't want to use the n character?\n",
    "\n",
    "To write a string of new lines with out using 'n' character, then use the end parameter in print function with an empty string.\n",
    "\n",
    "print('This is first line.',end=' ')\n",
    "print('This is second line.',end=' ')\n",
    "print('This is third line.',end=' ')"
   ]
  },
  {
   "cell_type": "code",
   "execution_count": 1,
   "id": "29a39542",
   "metadata": {},
   "outputs": [
    {
     "name": "stdout",
     "output_type": "stream",
     "text": [
      "This is first line. This is second line. This is third line. "
     ]
    }
   ],
   "source": [
    "print('This is first line.',end=' ')\n",
    "print('This is second line.',end=' ')\n",
    "print('This is third line.',end=' ')"
   ]
  },
  {
   "cell_type": "raw",
   "id": "5dbdc5c3",
   "metadata": {},
   "source": [
    "6. What are the values of the given expressions?\n",
    "'Hello, world!'[1]\n",
    "'Hello, world!'[0:5]\n",
    "'Hello, world!'[:5]\n",
    "'Hello, world!'[3:]\n",
    "\n",
    "The values of the expressions are:\n",
    "'Hello, world!'[1] -> 'e'\n",
    "'Hello, world!'[0:5] -> 'Hello'\n",
    "'Hello, world!'[:5] -> 'Hello'\n",
    "'Hello, world!'[3:] -> 'lo, world!'"
   ]
  },
  {
   "cell_type": "code",
   "execution_count": 2,
   "id": "7099f29f",
   "metadata": {},
   "outputs": [
    {
     "name": "stdout",
     "output_type": "stream",
     "text": [
      "e\n",
      "Hello\n",
      "Hello\n",
      "lo, world!\n"
     ]
    }
   ],
   "source": [
    "print('Hello, world!'[1])\n",
    "print('Hello, world!'[0:5])\n",
    "print('Hello, world!'[:5])\n",
    "print('Hello, world!'[3:])"
   ]
  },
  {
   "cell_type": "raw",
   "id": "cc6fed44",
   "metadata": {},
   "source": [
    "7. What are the values of the following expressions?\n",
    "'Hello'.upper()\n",
    "'Hello'.upper().isupper()\n",
    "'Hello'.upper().lower()\n",
    "\n",
    "The values of the expressions are:\n",
    "'Hello'.upper() -> 'HELLO'\n",
    "'Hello'.upper().isupper() -> True\n",
    "'Hello'.upper().lower() -> 'hello'"
   ]
  },
  {
   "cell_type": "code",
   "execution_count": 3,
   "id": "aecc80c7",
   "metadata": {},
   "outputs": [
    {
     "name": "stdout",
     "output_type": "stream",
     "text": [
      "HELLO\n",
      "True\n",
      "hello\n"
     ]
    }
   ],
   "source": [
    "print('Hello'.upper())\n",
    "print('Hello'.upper().isupper())\n",
    "print('Hello'.upper().lower())"
   ]
  },
  {
   "cell_type": "raw",
   "id": "784c9411",
   "metadata": {},
   "source": [
    "8. What are the values of the following expressions?\n",
    "'Remember, remember, the fifth of July.'.split() ->\n",
    "'-'.join('There can only one.'.split())\n",
    "\n",
    "The values of the expressions are:\n",
    "'Remember, remember, the fifth of July.'.split() ->['Remember,', 'remember,', 'the', 'fifth', 'of', 'July.']\n",
    "\n",
    "'-'.join('There can only one.'.split()) -> 'There-can-only-one.'"
   ]
  },
  {
   "cell_type": "code",
   "execution_count": 4,
   "id": "03ef9ae9",
   "metadata": {},
   "outputs": [
    {
     "name": "stdout",
     "output_type": "stream",
     "text": [
      "['Remember,', 'remember,', 'the', 'fifth', 'of', 'July.']\n",
      "There-can-only-one.\n"
     ]
    }
   ],
   "source": [
    "print('Remember, remember, the fifth of July.'.split())\n",
    "print('-'.join('There can only one.'.split()))"
   ]
  },
  {
   "cell_type": "raw",
   "id": "9376279d",
   "metadata": {},
   "source": [
    "9. What are the methods for right-justifying, left-justifying, and centering a string?\n",
    "\n",
    "For right-justifying a string - rjust\n",
    "For left-justifying a string - ljust\n",
    "For centering a string - center\n",
    "\n",
    "These methods are used for alignment of the strings with given width and fill character if specified else aligns the characters with white space if fill character is not specified."
   ]
  },
  {
   "cell_type": "code",
   "execution_count": 5,
   "id": "7e5a5ee1",
   "metadata": {},
   "outputs": [
    {
     "name": "stdout",
     "output_type": "stream",
     "text": [
      "-----------------This is 6th Assignment.\n",
      "This is 6th Assignment.-----------------\n",
      "--------This is 6th Assignment.---------\n",
      "---------------------\n",
      "                 This is 6th Assignment.\n",
      "This is 6th Assignment.                 \n",
      "        This is 6th Assignment.         \n"
     ]
    }
   ],
   "source": [
    "string = 'This is 6th Assignment.'\n",
    "print(string.rjust(40,'-'))\n",
    "print(string.ljust(40,'-'))\n",
    "print(string.center(40,'-'))\n",
    "print('---------------------')\n",
    "print(string.rjust(40))\n",
    "print(string.ljust(40))\n",
    "print(string.center(40))"
   ]
  },
  {
   "cell_type": "raw",
   "id": "fa657237",
   "metadata": {},
   "source": [
    "10. What is the best way to remove whitespace characters from the start or end?\n",
    "\n",
    "To remove whitespace characters from start or end, we use a method called strip() which strips the whitespaces present at start or end.\n",
    "\n",
    "To remove whitespaces only at the start of the string, we can use lstrip() method. Similary to remove whitespaces only at the end of the string, we can use rstrip() method."
   ]
  },
  {
   "cell_type": "code",
   "execution_count": 6,
   "id": "46560f4a",
   "metadata": {},
   "outputs": [
    {
     "name": "stdout",
     "output_type": "stream",
     "text": [
      "Remove whitespaces--------\n",
      "  Remove whitespaces--------\n",
      "Remove whitespaces  --------\n"
     ]
    }
   ],
   "source": [
    "string = '  Remove whitespaces  '\n",
    "print(string.strip() + '--------')\n",
    "print(string.rstrip() + '--------')\n",
    "print(string.lstrip() + '--------')"
   ]
  }
 ],
 "metadata": {
  "kernelspec": {
   "display_name": "Python 3",
   "language": "python",
   "name": "python3"
  },
  "language_info": {
   "codemirror_mode": {
    "name": "ipython",
    "version": 3
   },
   "file_extension": ".py",
   "mimetype": "text/x-python",
   "name": "python",
   "nbconvert_exporter": "python",
   "pygments_lexer": "ipython3",
   "version": "3.8.8"
  }
 },
 "nbformat": 4,
 "nbformat_minor": 5
}
