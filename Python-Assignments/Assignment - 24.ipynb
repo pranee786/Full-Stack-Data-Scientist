{
 "cells": [
  {
   "cell_type": "markdown",
   "id": "5f26bb1b",
   "metadata": {},
   "source": [
    "1. What is the relationship between def statements and lambda expressions ?\n",
    "\n",
    "Both def and lambda are defined as function keywords.\n",
    "def statements can have multiline statements within it.\n",
    "lambda is a single-line statement and anonymous function.\n"
   ]
  },
  {
   "cell_type": "markdown",
   "id": "3203e2c8",
   "metadata": {},
   "source": [
    "2. What is the benefit of lambda?\n",
    "\n",
    "The lambda keyword provides shortcut for declaring small anonymous functions. The lambda expressions can write concise code."
   ]
  },
  {
   "cell_type": "markdown",
   "id": "443a81e8",
   "metadata": {},
   "source": [
    "3. Compare and contrast map, filter, and reduce.\n",
    "\n",
    "map is a function which is for mapping the context with the dataset provided.\n",
    "\n",
    "filter is a function which is for filtering the dataset based on the condition given.\n",
    "\n",
    "reduce is a function which takes an existing function and apply to all the items in an iterable manner and generate a single final value."
   ]
  },
  {
   "cell_type": "code",
   "execution_count": 1,
   "id": "d4956b2d",
   "metadata": {},
   "outputs": [
    {
     "name": "stdout",
     "output_type": "stream",
     "text": [
      "Map Elements:  [1, 4, 9, 16, 25, 36]\n",
      "Filter Elements:  [1, 3, 5]\n",
      "Reduce function:  21\n"
     ]
    }
   ],
   "source": [
    "l = [1,2,3,4,5,6]\n",
    "\n",
    "map_list = list(map(lambda x:x**2,l))\n",
    "print('Map Elements: ',map_list)\n",
    "\n",
    "filter_list = list(filter(lambda x:x%2,l))\n",
    "print('Filter Elements: ',filter_list)\n",
    "\n",
    "from functools import reduce\n",
    "final_value = reduce(lambda a,b: a+b,l)\n",
    "print('Reduce function: ',final_value)"
   ]
  },
  {
   "cell_type": "markdown",
   "id": "85ab6bd4",
   "metadata": {},
   "source": [
    "4. What are function annotations, and how are they used?\n",
    "\n",
    "Function annotations are completely optional both for parameters and return value. It provides a way of associating various parts of a function with arbitary python expressions at compile time."
   ]
  },
  {
   "cell_type": "code",
   "execution_count": 2,
   "id": "6f211b34",
   "metadata": {},
   "outputs": [
    {
     "data": {
      "text/plain": [
       "{'a': 'python', 'b': {'category: language'}, 'return': 'yep'}"
      ]
     },
     "execution_count": 2,
     "metadata": {},
     "output_type": "execute_result"
    }
   ],
   "source": [
    "def func(a: 'python', b: {'category: ' 'language'}) -> 'yep':\n",
    "   pass\n",
    "\n",
    "func.__annotations__"
   ]
  },
  {
   "cell_type": "markdown",
   "id": "e7d92edc",
   "metadata": {},
   "source": [
    "5. What are recursive functions, and how are they used?\n",
    "\n",
    "Recusive functions are functions that calls itself. It has base case and the recursive case. The base case is the condition to stop the recursion, and the recursive case is the part where the function calls on itself."
   ]
  },
  {
   "cell_type": "code",
   "execution_count": 3,
   "id": "54059fc5",
   "metadata": {},
   "outputs": [
    {
     "name": "stdout",
     "output_type": "stream",
     "text": [
      "Enter a number: 6\n",
      "Factorial of 6 is 720\n"
     ]
    }
   ],
   "source": [
    "def recursive_factorial(n):\n",
    "    if n == 1:\n",
    "        return n\n",
    "    else:\n",
    "        return n * recursive_factorial(n-1)\n",
    "    \n",
    "n = int(input('Enter a number: '))    \n",
    "print('Factorial of {} is {}'.format(n,recursive_factorial(n)))"
   ]
  },
  {
   "cell_type": "markdown",
   "id": "dd2849cc",
   "metadata": {},
   "source": [
    "6. What are some general design guidelines for coding functions?\n",
    "\n",
    "Use 4-space indentation and no tabs.\n",
    "Use docstrings : There are both single and multi-line docstrings that can be used in Python. \n",
    "Wrap lines so that they don't exceed 79 characters : The Python standard library is conservative and requires limiting lines to 79 characters."
   ]
  },
  {
   "cell_type": "markdown",
   "id": "b4025d21",
   "metadata": {},
   "source": [
    "7. Name three or more ways that functions can communicate results to a caller.\n",
    "\n",
    "Return command in Python specifies what value to give back to the caller of the function."
   ]
  },
  {
   "cell_type": "code",
   "execution_count": 4,
   "id": "19164943",
   "metadata": {},
   "outputs": [
    {
     "name": "stdout",
     "output_type": "stream",
     "text": [
      "25\n",
      "None\n"
     ]
    }
   ],
   "source": [
    "def square(x):\n",
    "    print(x*x)\n",
    "    \n",
    "print(square(5))"
   ]
  },
  {
   "cell_type": "code",
   "execution_count": 5,
   "id": "a24abff2",
   "metadata": {},
   "outputs": [
    {
     "name": "stdout",
     "output_type": "stream",
     "text": [
      "<function square at 0x00000296B39938B0>\n"
     ]
    }
   ],
   "source": [
    "def square(x):\n",
    "    return x*x\n",
    "\n",
    "print(square)"
   ]
  },
  {
   "cell_type": "code",
   "execution_count": 6,
   "id": "b09f4050",
   "metadata": {},
   "outputs": [
    {
     "name": "stdout",
     "output_type": "stream",
     "text": [
      "49\n"
     ]
    }
   ],
   "source": [
    "def square(x):\n",
    "    return x*x\n",
    "\n",
    "print(square(7))"
   ]
  },
  {
   "cell_type": "code",
   "execution_count": null,
   "id": "bb771303",
   "metadata": {},
   "outputs": [],
   "source": []
  }
 ],
 "metadata": {
  "kernelspec": {
   "display_name": "Python 3",
   "language": "python",
   "name": "python3"
  },
  "language_info": {
   "codemirror_mode": {
    "name": "ipython",
    "version": 3
   },
   "file_extension": ".py",
   "mimetype": "text/x-python",
   "name": "python",
   "nbconvert_exporter": "python",
   "pygments_lexer": "ipython3",
   "version": "3.8.8"
  }
 },
 "nbformat": 4,
 "nbformat_minor": 5
}
