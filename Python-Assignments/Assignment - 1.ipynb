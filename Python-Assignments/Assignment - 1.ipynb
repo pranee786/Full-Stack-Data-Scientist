{
 "cells": [
  {
   "cell_type": "raw",
   "id": "1658daa2",
   "metadata": {},
   "source": [
    "1. In the below elements which of them are values or an expression? eg:- values can be\n",
    "integer or string and expressions will be mathematical operators.\n",
    "*\n",
    "\"hello\"\n",
    "-87.8\n",
    "-\n",
    "/\n",
    "+\n",
    "6\n",
    "\n",
    "\"hello\", -87.8 and 6 are the values\n",
    "*,-,/,+ are the expressions"
   ]
  },
  {
   "cell_type": "raw",
   "id": "dd0a8466",
   "metadata": {},
   "source": [
    "2. What is the difference between string and variable?\n",
    "\n",
    "A variable is an entity which holds the data to store it in the memory and process it. A varaible acts as a reference to the data in the memory.\n",
    "\n",
    "A string is a in-built dataype, which is a collection of one or more characters enclosed in single quotes or double quotes."
   ]
  },
  {
   "cell_type": "raw",
   "id": "f7c24183",
   "metadata": {},
   "source": [
    "3. Describe three different data types.\n",
    "\n",
    "There are numeric, string and bool datatypes.\n",
    "In numeric datatype, there are two datatypes - int and float.\n",
    "    - Numeric values without decimal point is \"int\" datatype.\n",
    "    - Numeric values with decimal point is \"float\" datatype.\n",
    "    \n",
    "In string datatype, the data is collection of one or more characters enclosed in single quotes or double quotes.\n",
    "\n",
    "In bool datatype, there are two values - True and False. Where True represents 1, False represents 0."
   ]
  },
  {
   "cell_type": "raw",
   "id": "028e4748",
   "metadata": {},
   "source": [
    "4. What is an expression made up of? What do all expressions do?\n",
    "\n",
    "Expression is combination of values, variables and operators and function invocations. Expressions are evaluated to a value."
   ]
  },
  {
   "cell_type": "raw",
   "id": "eeb17126",
   "metadata": {},
   "source": [
    "5. This assignment statements, like spam = 10. What is the difference between an\n",
    "expression and a statement?\n",
    "\n",
    "Expression which is combination of values, variables and operators, which are reduced or evaluated to a single value. An expression always return value and can be printed on the screen.\n",
    "Example for expression is \"hello \" + \"world\"\n",
    "\n",
    "Statements which represents an action or commands. Statements never return value or printed on the screen.\n",
    "Example for statement is assignment statement, print statement"
   ]
  },
  {
   "cell_type": "raw",
   "id": "061d37f3",
   "metadata": {},
   "source": [
    "6. After running the following code, what does the variable bacon contain?\n",
    "bacon = 22\n",
    "bacon + 1\n",
    "\n",
    "After the running the code, the variable bacon contain 22, since value is incremented but not assigned back to the variable bacon, it remains same in the variable bacon."
   ]
  },
  {
   "cell_type": "code",
   "execution_count": 1,
   "id": "f787d5b6",
   "metadata": {},
   "outputs": [
    {
     "data": {
      "text/plain": [
       "22"
      ]
     },
     "execution_count": 1,
     "metadata": {},
     "output_type": "execute_result"
    }
   ],
   "source": [
    "bacon = 22\n",
    "bacon+1\n",
    "bacon"
   ]
  },
  {
   "cell_type": "raw",
   "id": "97321c75",
   "metadata": {},
   "source": [
    "7. What should the values of the following two terms be?\n",
    "'spam'+'spamspam'\n",
    "'spam'*3\n",
    "\n",
    "The values for the both terms will be 'spamspamspam'.\n",
    "'spam'+'spamspam' is concatenating two strings and giving the output as 'spamspamspam'.\n",
    "'spam'*3 is replicating the string into 3 times and giving the output as 'spamspamspam'."
   ]
  },
  {
   "cell_type": "code",
   "execution_count": 2,
   "id": "fba8479f",
   "metadata": {},
   "outputs": [
    {
     "data": {
      "text/plain": [
       "'spamspamspam'"
      ]
     },
     "execution_count": 2,
     "metadata": {},
     "output_type": "execute_result"
    }
   ],
   "source": [
    "'spam'+'spamspam'"
   ]
  },
  {
   "cell_type": "code",
   "execution_count": 3,
   "id": "00d39bf2",
   "metadata": {},
   "outputs": [
    {
     "data": {
      "text/plain": [
       "'spamspamspam'"
      ]
     },
     "execution_count": 3,
     "metadata": {},
     "output_type": "execute_result"
    }
   ],
   "source": [
    "'spam'*3"
   ]
  },
  {
   "cell_type": "raw",
   "id": "603848e6",
   "metadata": {},
   "source": [
    "8. Why is eggs a valid variable name while 100 is invalid?\n",
    "\n",
    "Always a variable name should start with alphabetic character or underscore but not a number. Variable name can have numbers included but it should not start with a number.\n",
    "\n",
    "So, eggs is a valid variable name and 100 is invalid variable name.\n",
    "\n",
    "Example for valid names are temp, temp1, t1, _temp, ...etc\n",
    "Example for invalid names are 100,1temp,1t,"
   ]
  },
  {
   "cell_type": "raw",
   "id": "d2b945a1",
   "metadata": {},
   "source": [
    "9. What three functions can be used to get the integer, floating-point number, or string\n",
    "version of a value?\n",
    "\n",
    "int(), float(), str() functions will evaluate to the integer, floating-point number or string version of a value."
   ]
  },
  {
   "cell_type": "raw",
   "id": "c9910d7d",
   "metadata": {},
   "source": [
    "10. Why does this expression cause an error? How can you fix it?\n",
    "'I have eaten ' + 99 + ' burritos.'\n",
    "\n",
    "The expression results \"TypeError\" since we are trying to concatenate a string with int. We can fix this by typecasting the integer variable to string then it will process without any error.\n",
    "\n",
    "'I have eaten ' + str(99) + ' burritos.'"
   ]
  },
  {
   "cell_type": "code",
   "execution_count": 4,
   "id": "ac96b49f",
   "metadata": {},
   "outputs": [
    {
     "data": {
      "text/plain": [
       "'I have eaten 99 burritos.'"
      ]
     },
     "execution_count": 4,
     "metadata": {},
     "output_type": "execute_result"
    }
   ],
   "source": [
    "'I have eaten ' + str(99) + ' burritos.'"
   ]
  },
  {
   "cell_type": "code",
   "execution_count": null,
   "id": "9d057890",
   "metadata": {},
   "outputs": [],
   "source": []
  }
 ],
 "metadata": {
  "kernelspec": {
   "display_name": "Python 3",
   "language": "python",
   "name": "python3"
  },
  "language_info": {
   "codemirror_mode": {
    "name": "ipython",
    "version": 3
   },
   "file_extension": ".py",
   "mimetype": "text/x-python",
   "name": "python",
   "nbconvert_exporter": "python",
   "pygments_lexer": "ipython3",
   "version": "3.8.8"
  }
 },
 "nbformat": 4,
 "nbformat_minor": 5
}
