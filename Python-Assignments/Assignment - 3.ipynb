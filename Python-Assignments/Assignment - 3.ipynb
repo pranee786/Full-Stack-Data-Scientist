{
 "cells": [
  {
   "cell_type": "raw",
   "id": "938c4c37",
   "metadata": {},
   "source": [
    "1. Why are functions advantageous to have in your programs?\n",
    "\n",
    "Functions reduce the need of duplicate code, where we can call a function any number of times as per the requirement. This makes the program shorter, easier to read and update. Functions can evaluate an expression."
   ]
  },
  {
   "cell_type": "raw",
   "id": "37d58cc7",
   "metadata": {},
   "source": [
    "2. When does the code in a function run: when it's specified or when it's called?\n",
    "\n",
    "The code in a function will run only when the function is called but not when the function is defined."
   ]
  },
  {
   "cell_type": "raw",
   "id": "e4041854",
   "metadata": {},
   "source": [
    "3. What statement creates a function?\n",
    "\n",
    "In python, we create functions using key word called \"def\" followed by name of the function and arguments required for the function.\n",
    "\n",
    "Example: \n",
    "def fun_name(args):\n",
    "    pass"
   ]
  },
  {
   "cell_type": "raw",
   "id": "b35d200c",
   "metadata": {},
   "source": [
    "4. What is the difference between a function and a function call?\n",
    "\n",
    "A function consists of def and the logic within it and the return statement.\n",
    "\n",
    "A function call will make program execution to move the function and the function call will evaluates to the function's return value.\n",
    "\n",
    "Example:\n",
    "def sum(a,b):   # Function\n",
    "    return a+b\n",
    "    \n",
    "c = sum(1,2)    # Function call"
   ]
  },
  {
   "cell_type": "raw",
   "id": "cb6c4e61",
   "metadata": {},
   "source": [
    "5. How many global scopes are there in a Python program? How many local scopes?\n",
    "\n",
    "There is one global scope and a local space whenever a function is called."
   ]
  },
  {
   "cell_type": "raw",
   "id": "dd0b166c",
   "metadata": {},
   "source": [
    "6. What happens to variables in a local scope when the function call returns?\n",
    "\n",
    "When the function call returns, local scope values are destroyed and all the variables within function are forgotten."
   ]
  },
  {
   "cell_type": "raw",
   "id": "8011aebb",
   "metadata": {},
   "source": [
    "7. What is the concept of a return value? Is it possible to have a return value in an expression?\n",
    "\n",
    "Return statement evaluates a value to the function call. \n",
    "Yes, it is possible to return an expression as return value which evaluates the expression and pass the final value to the function call."
   ]
  },
  {
   "cell_type": "raw",
   "id": "96690454",
   "metadata": {},
   "source": [
    "8. If a function does not have a return statement, what is the return value of a call to that function?\n",
    "\n",
    "If function does not have return statement, then it returns value as \"None\" for that function call."
   ]
  },
  {
   "cell_type": "raw",
   "id": "f15cfddd",
   "metadata": {},
   "source": [
    "9. How do you make a function variable refer to the global variable?\n",
    "\n",
    "A function varaible can be referred as global variable by using global statement.\n",
    "\n",
    "Example:\n",
    "def sum(a,b):\n",
    "    global d\n",
    "    c = a + b + d\n",
    "    return c\n",
    "    \n",
    "d = 10\n",
    "c = sum(1,3)"
   ]
  },
  {
   "cell_type": "raw",
   "id": "707f0f5e",
   "metadata": {},
   "source": [
    "10. What is the data type of None?\n",
    "\n",
    "The data type of None is 'NoneType'."
   ]
  },
  {
   "cell_type": "raw",
   "id": "bfce71d7",
   "metadata": {},
   "source": [
    "11. What does the sentence import areallyourpetsnamederic do?\n",
    "\n",
    "The sentence import areallyourpetsnamederic will import the module to current module if it is present, else it throws an error stating 'ModuleError'."
   ]
  },
  {
   "cell_type": "raw",
   "id": "7dfb9ae0",
   "metadata": {},
   "source": [
    "12. If you had a bacon() feature in a spam module, what would you call it after importing spam?\n",
    "\n",
    "bacon() feature is called by using the module name followed by dot operator and then followed by bacon() feature.\n",
    "\n",
    "import spam\n",
    "spam.bacon()"
   ]
  },
  {
   "cell_type": "raw",
   "id": "8d5beecf",
   "metadata": {},
   "source": [
    "13. What can you do to save a programme from crashing if it encounters an error?\n",
    "\n",
    "We can use exception handling to save a programme from crashing using try and except blocks.\n",
    "\n",
    "If the code is expected to get an error, place that piece of code within the try block and handle the exception within the except block with user-defined exception.\n",
    "\n",
    "Example:\n",
    "try:\n",
    "    a = 3/0\n",
    "except:\n",
    "    print('Division by zero results an error')"
   ]
  },
  {
   "cell_type": "raw",
   "id": "9582047a",
   "metadata": {},
   "source": [
    "14. What is the purpose of the try clause? What is the purpose of the except clause?\n",
    "\n",
    "The purpose of try block to have the code which may results an error.\n",
    "\n",
    "The purpose of except block is to handle the error with user-defined response."
   ]
  }
 ],
 "metadata": {
  "kernelspec": {
   "display_name": "Python 3",
   "language": "python",
   "name": "python3"
  },
  "language_info": {
   "codemirror_mode": {
    "name": "ipython",
    "version": 3
   },
   "file_extension": ".py",
   "mimetype": "text/x-python",
   "name": "python",
   "nbconvert_exporter": "python",
   "pygments_lexer": "ipython3",
   "version": "3.8.8"
  }
 },
 "nbformat": 4,
 "nbformat_minor": 5
}
