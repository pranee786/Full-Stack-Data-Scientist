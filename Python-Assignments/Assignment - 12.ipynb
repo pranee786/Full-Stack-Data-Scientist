{
 "cells": [
  {
   "cell_type": "raw",
   "id": "139e8df1",
   "metadata": {},
   "source": [
    "1. In what modes should the PdfFileReader() and PdfFileWriter() File objects will be opened?\n",
    "\n",
    "PdfFileReader() needs to be opened in \"read-binary\" (rb) mode where as PdfFileWriter() needs to be opened in \"write-binary\" (wb) mode"
   ]
  },
  {
   "cell_type": "raw",
   "id": "8d0f6754",
   "metadata": {},
   "source": [
    "2. From a PdfFileReader object, how do you get a Page object for page 5?\n",
    "\n",
    "Pages start with 0, so we need to call getPage(4) will return a Page object for page 5."
   ]
  },
  {
   "cell_type": "raw",
   "id": "0435114b",
   "metadata": {},
   "source": [
    "3. What PdfFileReader variable stores the number of pages in the PDF document?\n",
    "\n",
    "The numPages variable stores an integer of the number of pages in the PdfFileReader."
   ]
  },
  {
   "cell_type": "raw",
   "id": "07fb379b",
   "metadata": {},
   "source": [
    "4. If a PdfFileReader object’s PDF is encrypted with the password swordfish, what must you do\n",
    "before you can obtain Page objects from it?\n",
    "\n",
    "Before obtaining the page object we need to decrypt it.\n",
    "Call decrypt('swordfish')"
   ]
  },
  {
   "cell_type": "raw",
   "id": "50def3ab",
   "metadata": {},
   "source": [
    "5. What methods do you use to rotate a page?\n",
    "\n",
    "We get the page object using getPage() method for pdf reader class. Now, we can rotate the page using rotateClockwise() method of a page object class."
   ]
  },
  {
   "cell_type": "raw",
   "id": "ffa72f14",
   "metadata": {},
   "source": [
    "6. What is the difference between a Run object and a Paragraph object?\n",
    "\n",
    "A document contains multiple paragraphs. A paragraph begins on a new line and contain multiple runs. Runs are contiguous groups of characters within a paragraph."
   ]
  },
  {
   "cell_type": "raw",
   "id": "36eecdff",
   "metadata": {},
   "source": [
    "7. How do you obtain a list of Paragraph objects for a Document object that’s stored in a variable\n",
    "named doc?\n",
    "\n",
    "doc.paragraphs will give the list of paragraph objects for a Document."
   ]
  },
  {
   "cell_type": "raw",
   "id": "03ab6f73",
   "metadata": {},
   "source": [
    "8. What type of object has bold, underline, italic, strike, and outline variables?\n",
    "\n",
    "A run object will have these all variables."
   ]
  },
  {
   "cell_type": "raw",
   "id": "08bc4a07",
   "metadata": {},
   "source": [
    "9. What is the difference between False, True, and None for the bold variable?\n",
    "\n",
    "True always makes the run object bolded and False makes it always not bolded, no matter what the style's bold setting is. None will make the run object just use the style's bold setting."
   ]
  },
  {
   "cell_type": "raw",
   "id": "653340e1",
   "metadata": {},
   "source": [
    "10. How do you create a Document object for a new Word document?\n",
    "\n",
    "To create a document, we need to import docx module and call the Document() method from docx module"
   ]
  },
  {
   "cell_type": "raw",
   "id": "ba1b5a7d",
   "metadata": {},
   "source": [
    "11. How do you add a paragraph with the text \"Hello, there!\" to a Document object stored in a\n",
    "variable named doc?\n",
    "\n",
    "doc.add_paragraph('Hello, there!')"
   ]
  },
  {
   "cell_type": "raw",
   "id": "b6bf1b95",
   "metadata": {},
   "source": [
    "12. What integers represent the levels of headings available in Word documents?\n",
    "\n",
    "Integers 1 to 4 are for various heading levels.\n",
    "1 being the main heading and 4th being the lowest subheading."
   ]
  }
 ],
 "metadata": {
  "kernelspec": {
   "display_name": "Python 3",
   "language": "python",
   "name": "python3"
  },
  "language_info": {
   "codemirror_mode": {
    "name": "ipython",
    "version": 3
   },
   "file_extension": ".py",
   "mimetype": "text/x-python",
   "name": "python",
   "nbconvert_exporter": "python",
   "pygments_lexer": "ipython3",
   "version": "3.8.8"
  }
 },
 "nbformat": 4,
 "nbformat_minor": 5
}
