{
 "cells": [
  {
   "cell_type": "raw",
   "id": "f1a3857f",
   "metadata": {},
   "source": [
    "1.What are the two values of the Boolean data type? How do you write them?\n",
    "\n",
    "The two values of Boolean data type are True and False\n",
    "We write 'True' for True and 'False' for False"
   ]
  },
  {
   "cell_type": "raw",
   "id": "5ca2be2b",
   "metadata": {},
   "source": [
    "2. What are the three different types of Boolean operators?\n",
    "\n",
    "The three different types of Boolean operators are \n",
    "    1) Bit-wise OR - Denoted by |. If any one or both the operands value are 1, then the truth value is 1.\n",
    "    2) Bit-wise AND - Denoted by &. If both the operands are 1, then the truth value is 1.\n",
    "    3) Bit-wise NOT - Denoted by ~. If the operand is 0, then the truth value is 1. If the operand is 1, then the truth value is 0."
   ]
  },
  {
   "cell_type": "raw",
   "id": "d90bb599",
   "metadata": {},
   "source": [
    "3. Make a list of each Boolean operator's truth tables (i.e. every possible combination of Boolean\n",
    "values for the operator and what it evaluate ).\n",
    "\n",
    "For Bit-wise OR, Truth Table is \n",
    "     A   B   A|B\n",
    "     0   0    0\n",
    "     0   1    1\n",
    "     1   0    1\n",
    "     1   1    1\n",
    "     \n",
    "For Bit-wise AND, Truth Table is \n",
    "    A    B   A&B\n",
    "    0    0    0\n",
    "    0    1    0\n",
    "    1    0    0\n",
    "    1    1    1\n",
    "    \n",
    "For Bit-wise NOT, Truth Table is \n",
    "    A   ~A\n",
    "    0    1\n",
    "    1    0\n",
    "    \n",
    "For Bit-wise XOR, Truth Table is \n",
    "    A    B    A^B\n",
    "    0    0     0\n",
    "    0    1     1\n",
    "    1    0     1\n",
    "    1    1     0\n"
   ]
  },
  {
   "cell_type": "raw",
   "id": "e22ec2e7",
   "metadata": {},
   "source": [
    "4. What are the values of the following expressions?\n",
    "(5 > 4) and (3 == 5)\n",
    "not (5 > 4)\n",
    "(5 > 4) or (3 == 5)\n",
    "not ((5 > 4) or (3 == 5))\n",
    "(True and True) and (True == False)\n",
    "(not False) or (not True)\n",
    "\n",
    "(5 > 4) and (3 == 5) -> False\n",
    "not (5 > 4) -> False\n",
    "(5 > 4) or (3 == 5) -> True\n",
    "not ((5 > 4) or (3 == 5)) -> False\n",
    "(True and True) and (True == False) -> False\n",
    "(not False) or (not True) -> True"
   ]
  },
  {
   "cell_type": "raw",
   "id": "195ed077",
   "metadata": {},
   "source": [
    "5. What are the six comparison operators?\n",
    "\n",
    "The comparison operators are also called Relational Operators.\n",
    "The six comparison operators are\n",
    "    1) Less than (<)\n",
    "    2) Less than or equal to (<=)\n",
    "    3) Greater than (>)\n",
    "    4) Greater than or equal to (>=)\n",
    "    5) Equal to (==)\n",
    "    6) Not equal to (!=)"
   ]
  },
  {
   "cell_type": "raw",
   "id": "3bf6c16e",
   "metadata": {},
   "source": [
    "6. How do you tell the difference between the equal to and assignment operators?Describe a\n",
    "condition and when you would use one.\n",
    "\n",
    "Equal to (==) operator is one of the comparison operator which checks if the variable is equal to some value or not. Equal to operator is dentoed by double equals \"==\". If is equal, it returns True otherwise False.\n",
    "Where as the assignment operator (=) is used to assign a value to a variable. Assignment operator is denoted by single equal \"=\".\n",
    "\n",
    "Example:\n",
    "a = 10 # This is a assignment operator, which is assigning 10 to the variable 'a'.\n",
    "a == 10 # This is the equals to operator, which is checking whether the variable values is equal to 10 or not. If it is equal to 10 then it returns True otherwise it returns False."
   ]
  },
  {
   "cell_type": "raw",
   "id": "aacfeb40",
   "metadata": {},
   "source": [
    "7. Identify the three blocks in this code:\n",
    "spam = 0\n",
    "if spam == 10:\n",
    "print(\"eggs\")\n",
    "if spam > 5:\n",
    "print(\"bacon\")\n",
    "else:\n",
    "print(\"ham\")\n",
    "print(\"spam\")\n",
    "print(\"spam\")\n",
    "\n",
    "spam = 0\n",
    "if spam == 10:\n",
    "    print(\"eggs\")\n",
    "if spam > 5:\n",
    "    print(\"bacon\")\n",
    "else:\n",
    "    print(\"ham\")\n",
    "print(\"spam\")\n",
    "print(\"spam\")\n",
    "\n",
    "The there blocks are \n",
    "    1) spam = 0\n",
    "       print(\"spam\")\n",
    "       print(\"spam\")\n",
    "       \n",
    "    2) if spam == 10:\n",
    "          print(\"eggs\")\n",
    "          \n",
    "    3) if spam > 5:\n",
    "          print(\"bacon\")\n",
    "       else:\n",
    "          print(\"ham\")"
   ]
  },
  {
   "cell_type": "raw",
   "id": "a85a1fa4",
   "metadata": {},
   "source": [
    "8. Write code that prints Hello if 1 is stored in spam, prints Howdy if 2 is stored in spam, and prints\n",
    "Greetings! if anything else is stored in spam.\n",
    "\n",
    "if spam == 1:\n",
    "    print(\"Hello\")\n",
    "elif spam == 2:\n",
    "    print(\"Howdy\")\n",
    "else:\n",
    "    print(\"Greetings!\")"
   ]
  },
  {
   "cell_type": "raw",
   "id": "4aab055e",
   "metadata": {},
   "source": [
    "9. If your programme is stuck in an endless loop, what keys you’ll press?\n",
    "\n",
    "Ctrl + C is pressed to interrupt and stop the program when it enters into the endless loop."
   ]
  },
  {
   "cell_type": "raw",
   "id": "d263b2d1",
   "metadata": {},
   "source": [
    "10. How can you tell the difference between break and continue?\n",
    "\n",
    "break and continue are used inside the loops.\n",
    "break is used to exit the loop when a condition has met.\n",
    "continue is used to skip current iteration and proceed to next iteration when a condition has met.\n",
    "\n",
    "Example for break:\n",
    "for i in range(1,10):\n",
    "    if i == 5:\n",
    "        break\n",
    "    print(i)\n",
    "    \n",
    "-----> Output is 1\n",
    "2\n",
    "3\n",
    "4\n",
    "\n",
    "Example for continue:\n",
    "for i in range(1,10):\n",
    "    if i == 5:\n",
    "        continue\n",
    "    print(i)\n",
    "    \n",
    "------> Output is 1\n",
    "2\n",
    "3\n",
    "4\n",
    "6\n",
    "7\n",
    "8\n",
    "9"
   ]
  },
  {
   "cell_type": "code",
   "execution_count": 1,
   "id": "16cfbb43",
   "metadata": {},
   "outputs": [
    {
     "name": "stdout",
     "output_type": "stream",
     "text": [
      "1\n",
      "2\n",
      "3\n",
      "4\n"
     ]
    }
   ],
   "source": [
    "for i in range(1,10):\n",
    "    if i == 5:\n",
    "        break\n",
    "    print(i)"
   ]
  },
  {
   "cell_type": "code",
   "execution_count": 2,
   "id": "11f83afe",
   "metadata": {},
   "outputs": [
    {
     "name": "stdout",
     "output_type": "stream",
     "text": [
      "1\n",
      "2\n",
      "3\n",
      "4\n",
      "6\n",
      "7\n",
      "8\n",
      "9\n"
     ]
    }
   ],
   "source": [
    "for i in range(1,10):\n",
    "    if i == 5:\n",
    "        continue\n",
    "    print(i)"
   ]
  },
  {
   "cell_type": "raw",
   "id": "da901094",
   "metadata": {},
   "source": [
    "11. In a for loop, what is the difference between range(10), range(0, 10), and range(0, 10, 1)?\n",
    "\n",
    "range(10) -> Upper bound is given as 10, there is no Lower bound given so it is considered as 0, and there is no step-size given so it is considered as 1. So, it prints from 0 to 9.\n",
    "\n",
    "range(0,10) -> Lower bound is given as 0, Upper bound is given as 10 and there is no step-size so it is considered as 1. So, it prints from 0 to 9.\n",
    "\n",
    "range(0,10,1) -> Lower bound is given as 0, Upper bound is given as 10 and step-size is given as 1. So, it prints from 0 to 9."
   ]
  },
  {
   "cell_type": "code",
   "execution_count": 3,
   "id": "b0e45e0a",
   "metadata": {},
   "outputs": [
    {
     "name": "stdout",
     "output_type": "stream",
     "text": [
      "0\n",
      "1\n",
      "2\n",
      "3\n",
      "4\n",
      "5\n",
      "6\n",
      "7\n",
      "8\n",
      "9\n"
     ]
    }
   ],
   "source": [
    "for i in range(10):\n",
    "    print(i)"
   ]
  },
  {
   "cell_type": "code",
   "execution_count": 4,
   "id": "70a081c1",
   "metadata": {},
   "outputs": [
    {
     "name": "stdout",
     "output_type": "stream",
     "text": [
      "0\n",
      "1\n",
      "2\n",
      "3\n",
      "4\n",
      "5\n",
      "6\n",
      "7\n",
      "8\n",
      "9\n"
     ]
    }
   ],
   "source": [
    "for i in range(0,10):\n",
    "    print(i)"
   ]
  },
  {
   "cell_type": "code",
   "execution_count": 5,
   "id": "792db8cc",
   "metadata": {},
   "outputs": [
    {
     "name": "stdout",
     "output_type": "stream",
     "text": [
      "0\n",
      "1\n",
      "2\n",
      "3\n",
      "4\n",
      "5\n",
      "6\n",
      "7\n",
      "8\n",
      "9\n"
     ]
    }
   ],
   "source": [
    "for i in range(0,10,1):\n",
    "    print(i)"
   ]
  },
  {
   "cell_type": "raw",
   "id": "7c8abd36",
   "metadata": {},
   "source": [
    "12. Write a short program that prints the numbers 1 to 10 using a for loop. Then write an equivalent\n",
    "program that prints the numbers 1 to 10 using a while loop.\n",
    "\n",
    "Program to print numbers from 1 to 10 usign for loop:\n",
    "for i in range(1,11):\n",
    "    print(i)\n",
    "    \n",
    "Program to print numbers from 1 to 10 using while loop:\n",
    "i = 1\n",
    "while(i<=10):\n",
    "    print(i)\n",
    "    i += 1\n"
   ]
  },
  {
   "cell_type": "code",
   "execution_count": 6,
   "id": "1d442db7",
   "metadata": {},
   "outputs": [
    {
     "name": "stdout",
     "output_type": "stream",
     "text": [
      "1\n",
      "2\n",
      "3\n",
      "4\n",
      "5\n",
      "6\n",
      "7\n",
      "8\n",
      "9\n",
      "10\n"
     ]
    }
   ],
   "source": [
    "for i in range(1,11):\n",
    "    print(i)"
   ]
  },
  {
   "cell_type": "code",
   "execution_count": 7,
   "id": "a81f28ed",
   "metadata": {},
   "outputs": [
    {
     "name": "stdout",
     "output_type": "stream",
     "text": [
      "1\n",
      "2\n",
      "3\n",
      "4\n",
      "5\n",
      "6\n",
      "7\n",
      "8\n",
      "9\n",
      "10\n"
     ]
    }
   ],
   "source": [
    "i = 1\n",
    "while(i<=10):\n",
    "    print(i)\n",
    "    i += 1"
   ]
  },
  {
   "cell_type": "raw",
   "id": "1be2fb61",
   "metadata": {},
   "source": [
    "13. If you had a function named bacon() inside a module named spam, how would you call it after\n",
    "importing spam?\n",
    "\n",
    "After importing spam module, we can call the bacon function using spam.bacon()\n",
    "\n",
    "import spam\n",
    "spam.bacon()"
   ]
  },
  {
   "cell_type": "code",
   "execution_count": null,
   "id": "5e26eb69",
   "metadata": {},
   "outputs": [],
   "source": []
  }
 ],
 "metadata": {
  "kernelspec": {
   "display_name": "Python 3",
   "language": "python",
   "name": "python3"
  },
  "language_info": {
   "codemirror_mode": {
    "name": "ipython",
    "version": 3
   },
   "file_extension": ".py",
   "mimetype": "text/x-python",
   "name": "python",
   "nbconvert_exporter": "python",
   "pygments_lexer": "ipython3",
   "version": "3.8.8"
  }
 },
 "nbformat": 4,
 "nbformat_minor": 5
}
