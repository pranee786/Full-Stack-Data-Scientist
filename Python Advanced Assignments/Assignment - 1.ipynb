{
 "cells": [
  {
   "cell_type": "markdown",
   "id": "5a8bdc56",
   "metadata": {},
   "source": [
    "Q1. What is the purpose of Python's OOP?\n",
    "\n",
    "In Python, Object-Oriented Programming (OOP) is a programming paradigm that uses objects and classes in programming. It aims to implement real-world entities like inheritance, polymorphism, encapsulation in the programming."
   ]
  },
  {
   "cell_type": "markdown",
   "id": "4c59f8b1",
   "metadata": {},
   "source": [
    "Q2. Where does an inheritance search look for an attribute?\n",
    "\n",
    "All of the objects are namespaces, and the inheritance search is simply a search of the tree from bottom to top looking for the lowest occurrence of an attribute name."
   ]
  },
  {
   "cell_type": "markdown",
   "id": "a035c95a",
   "metadata": {},
   "source": [
    "Q3. How do you distinguish between a class object and an instance object?\n",
    "\n",
    "The class is the blue print. The object is an actual thing that is built based on the blue print. An instance is a virtual copy of the object."
   ]
  },
  {
   "cell_type": "markdown",
   "id": "667ac593",
   "metadata": {},
   "source": [
    "Q4. What makes the first argument in a class’s method function special?\n",
    "\n",
    "The first argument of every class method, including init, is always a reference to the current instance of the class. By convention,this argument is always named self. In the init method, self refers to the newly created object. In other class methods, it refers to the instance whose method was called."
   ]
  },
  {
   "cell_type": "markdown",
   "id": "e8b16e46",
   "metadata": {},
   "source": [
    "Q5. What is the purpose of the __init__ method?\n",
    "\n",
    "The __init__ method is called every time an object is created from a class. The __init__ method lets the class initialize the object's attributes and servers no other purpose. It is only used within classes."
   ]
  },
  {
   "cell_type": "markdown",
   "id": "b1afd8c4",
   "metadata": {},
   "source": [
    "Q6. What is the process for creating a class instance?\n",
    "\n",
    "Call ClassName() to create a new instance of the class ClassName. To pass parameters to the class instance, the class must have an __init__() method. Pass the parameters in the constructor of the class."
   ]
  },
  {
   "cell_type": "markdown",
   "id": "79591465",
   "metadata": {},
   "source": [
    "Q7. What is the process for creating a class?\n",
    "\n",
    "To create a class, use the keyword 'class' followed by name of the class."
   ]
  },
  {
   "cell_type": "markdown",
   "id": "17e82e48",
   "metadata": {},
   "source": [
    "Q8. How would you define the superclasses of a class?\n",
    "\n",
    "The class from which a class inherits is called the parent or superclass. A class which inherits from a superclass is called a subclass also called child class."
   ]
  }
 ],
 "metadata": {
  "kernelspec": {
   "display_name": "Python 3",
   "language": "python",
   "name": "python3"
  },
  "language_info": {
   "codemirror_mode": {
    "name": "ipython",
    "version": 3
   },
   "file_extension": ".py",
   "mimetype": "text/x-python",
   "name": "python",
   "nbconvert_exporter": "python",
   "pygments_lexer": "ipython3",
   "version": "3.8.8"
  }
 },
 "nbformat": 4,
 "nbformat_minor": 5
}
