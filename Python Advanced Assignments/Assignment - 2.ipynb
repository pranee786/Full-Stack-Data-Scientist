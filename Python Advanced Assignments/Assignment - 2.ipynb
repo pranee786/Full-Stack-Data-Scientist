{
 "cells": [
  {
   "cell_type": "markdown",
   "id": "b21c6271",
   "metadata": {},
   "source": [
    "Q1. What is the relationship between classes and modules?\n",
    "\n",
    "A class is used to define a blueprint for a given object, whereas a module is used to reuse a given piece of code inside another program."
   ]
  },
  {
   "cell_type": "markdown",
   "id": "c4a27339",
   "metadata": {},
   "source": [
    "Q2. How do you make instances and classes?\n",
    "\n",
    "Call ClassName() to create a new instance of the class ClassName. To pass parameters to the class instance, the class must have an __init__() method.\n",
    "\n",
    "To create a class, start with keyword \"class\" followed by the ClassName and define the methods inside the class."
   ]
  },
  {
   "cell_type": "markdown",
   "id": "025b3660",
   "metadata": {},
   "source": [
    "Q3. Where and how should be class attributes created?\n",
    "\n",
    "Class attributes are attributes which are owned by the class itself. They will be shared by all the instances of the class. We define class attributes outside all the methods, usually they placed at the top, right below the class header."
   ]
  },
  {
   "cell_type": "markdown",
   "id": "ad6e3f2a",
   "metadata": {},
   "source": [
    "Q4. Where and how are instance attributes created?\n",
    "\n",
    "Instances attributes are defined in the construcotr. Defined directly inside a class. Defined inside a constructor using the self parameter which are shared across all objects."
   ]
  },
  {
   "cell_type": "markdown",
   "id": "60e40c42",
   "metadata": {},
   "source": [
    "Q5. What does the term \"self\" in a Python class mean?\n",
    "\n",
    "\"self\" represents the instance of the class. By using the \"self\" keyword we can access the attributes and methods of the class in python. It binds the attributes with the given arguments."
   ]
  },
  {
   "cell_type": "markdown",
   "id": "8618eedb",
   "metadata": {},
   "source": [
    "Q6. How does a Python class handle operator overloading?\n",
    "\n",
    "The operator overloading in Python means provides predefined operational meaning. We use \"+\" operator for adding two integers as well as joining two string or merging two lists."
   ]
  },
  {
   "cell_type": "code",
   "execution_count": 2,
   "id": "d69e6bcc",
   "metadata": {},
   "outputs": [
    {
     "name": "stdout",
     "output_type": "stream",
     "text": [
      "Addition of two integers:  16\n",
      "Concatentation of two strings:  hello world\n",
      "Merging two lists:  [1, 2, 3, 4, 5, 6]\n"
     ]
    }
   ],
   "source": [
    "def add(n1,n2):\n",
    "    return n1+n2\n",
    "\n",
    "print(\"Addition of two integers: \",add(6,10))\n",
    "print(\"Concatentation of two strings: \",add(\"hello \",\"world\"))\n",
    "print(\"Merging two lists: \",add([1,2,3],[4,5,6]))"
   ]
  },
  {
   "cell_type": "markdown",
   "id": "2aecbe0f",
   "metadata": {},
   "source": [
    "Q7. When do you consider allowing operator overloading of your classes?\n",
    "\n",
    "We have two objects which are a physical representation of a class and we have to add two objects using binary '+' operator it throws an error, because compiler dont know how to add two objects. So we define a method for an operator and that process is called operator overloading."
   ]
  },
  {
   "cell_type": "markdown",
   "id": "b31bd860",
   "metadata": {},
   "source": [
    "Q8. What is the most popular form of operator overloading?\n",
    "\n",
    "The most popular form of operator overloading is Addition (+) operator."
   ]
  },
  {
   "cell_type": "markdown",
   "id": "34464214",
   "metadata": {},
   "source": [
    "Q9. What are the two most important concepts to grasp in order to comprehend Python OOP code?\n",
    "\n",
    "Inheritance and Polymorphism are to main concepts to comprehend Python OOP code."
   ]
  }
 ],
 "metadata": {
  "kernelspec": {
   "display_name": "Python 3",
   "language": "python",
   "name": "python3"
  },
  "language_info": {
   "codemirror_mode": {
    "name": "ipython",
    "version": 3
   },
   "file_extension": ".py",
   "mimetype": "text/x-python",
   "name": "python",
   "nbconvert_exporter": "python",
   "pygments_lexer": "ipython3",
   "version": "3.8.8"
  }
 },
 "nbformat": 4,
 "nbformat_minor": 5
}
