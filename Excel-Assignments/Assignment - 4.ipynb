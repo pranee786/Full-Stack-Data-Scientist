{
 "cells": [
  {
   "cell_type": "raw",
   "id": "84e79ac0",
   "metadata": {},
   "source": [
    "1. Find the Position of Word (Find-the-Position-of-Word.xlsx)\n",
    "Suppose you have been given a word say \"and\" and you need to find which word position is this\n",
    "1. In Mr. and Mrs. Smith - Position of \"and\" is 2 as this is the 2nd word, the position is not 5.\n",
    "2. In Samarand Smith and Kittie Smith - the position is 3 not 2 as \"and\" is appearing in the first\n",
    "word also but not as a single word.\n",
    "3. You need to write a formula which finds the word position for the word \"and\""
   ]
  },
  {
   "cell_type": "code",
   "execution_count": 1,
   "id": "9e7abd89",
   "metadata": {},
   "outputs": [],
   "source": [
    "import pandas as pd"
   ]
  },
  {
   "cell_type": "code",
   "execution_count": 2,
   "id": "bba731f0",
   "metadata": {},
   "outputs": [],
   "source": [
    "file = 'F:\\\\Full Stack Data Scientist Course\\\\Excel Assignment\\\\Find-the-Position-of-Word.xlsx'"
   ]
  },
  {
   "cell_type": "code",
   "execution_count": 3,
   "id": "88e79cbf",
   "metadata": {},
   "outputs": [],
   "source": [
    "df = pd.read_excel(file,header=None)"
   ]
  },
  {
   "cell_type": "code",
   "execution_count": 4,
   "id": "f2ee4032",
   "metadata": {},
   "outputs": [],
   "source": [
    "df = df.dropna(how='all').dropna(how='all',axis=1)"
   ]
  },
  {
   "cell_type": "code",
   "execution_count": 5,
   "id": "a94aa7c9",
   "metadata": {},
   "outputs": [],
   "source": [
    "df = df.reset_index(drop=True)"
   ]
  },
  {
   "cell_type": "code",
   "execution_count": 6,
   "id": "b1648a7c",
   "metadata": {},
   "outputs": [],
   "source": [
    "key = 'and'\n",
    "df['\"and\" position'] = -1"
   ]
  },
  {
   "cell_type": "code",
   "execution_count": 7,
   "id": "c67656ca",
   "metadata": {},
   "outputs": [],
   "source": [
    "for i in df.index:\n",
    "    value = df.iloc[i][0]\n",
    "    split_value = value.split()\n",
    "    if key in split_value:\n",
    "        pos = split_value.index(key)\n",
    "        df.at[i,'\"and\" position'] = pos"
   ]
  },
  {
   "cell_type": "code",
   "execution_count": 8,
   "id": "af000099",
   "metadata": {},
   "outputs": [
    {
     "data": {
      "text/html": [
       "<div>\n",
       "<style scoped>\n",
       "    .dataframe tbody tr th:only-of-type {\n",
       "        vertical-align: middle;\n",
       "    }\n",
       "\n",
       "    .dataframe tbody tr th {\n",
       "        vertical-align: top;\n",
       "    }\n",
       "\n",
       "    .dataframe thead th {\n",
       "        text-align: right;\n",
       "    }\n",
       "</style>\n",
       "<table border=\"1\" class=\"dataframe\">\n",
       "  <thead>\n",
       "    <tr style=\"text-align: right;\">\n",
       "      <th></th>\n",
       "      <th>0</th>\n",
       "      <th>\"and\" position</th>\n",
       "    </tr>\n",
       "  </thead>\n",
       "  <tbody>\n",
       "    <tr>\n",
       "      <th>0</th>\n",
       "      <td>Mr. and Mrs John Doe</td>\n",
       "      <td>1</td>\n",
       "    </tr>\n",
       "    <tr>\n",
       "      <th>1</th>\n",
       "      <td>The Reverend John Doe and Mrs. Jane Doe</td>\n",
       "      <td>4</td>\n",
       "    </tr>\n",
       "    <tr>\n",
       "      <th>2</th>\n",
       "      <td>and</td>\n",
       "      <td>0</td>\n",
       "    </tr>\n",
       "    <tr>\n",
       "      <th>3</th>\n",
       "      <td>Myranda and Lynda</td>\n",
       "      <td>1</td>\n",
       "    </tr>\n",
       "    <tr>\n",
       "      <th>4</th>\n",
       "      <td>Rama and</td>\n",
       "      <td>1</td>\n",
       "    </tr>\n",
       "    <tr>\n",
       "      <th>5</th>\n",
       "      <td>and rama</td>\n",
       "      <td>0</td>\n",
       "    </tr>\n",
       "  </tbody>\n",
       "</table>\n",
       "</div>"
      ],
      "text/plain": [
       "                                         0  \"and\" position\n",
       "0                     Mr. and Mrs John Doe               1\n",
       "1  The Reverend John Doe and Mrs. Jane Doe               4\n",
       "2                                      and               0\n",
       "3                        Myranda and Lynda               1\n",
       "4                                 Rama and               1\n",
       "5                                 and rama               0"
      ]
     },
     "execution_count": 8,
     "metadata": {},
     "output_type": "execute_result"
    }
   ],
   "source": [
    "df"
   ]
  },
  {
   "cell_type": "code",
   "execution_count": null,
   "id": "ae5ca56b",
   "metadata": {},
   "outputs": [],
   "source": []
  }
 ],
 "metadata": {
  "kernelspec": {
   "display_name": "Python 3",
   "language": "python",
   "name": "python3"
  },
  "language_info": {
   "codemirror_mode": {
    "name": "ipython",
    "version": 3
   },
   "file_extension": ".py",
   "mimetype": "text/x-python",
   "name": "python",
   "nbconvert_exporter": "python",
   "pygments_lexer": "ipython3",
   "version": "3.8.8"
  }
 },
 "nbformat": 4,
 "nbformat_minor": 5
}
